{
 "cells": [
  {
   "cell_type": "markdown",
   "metadata": {},
   "source": [
    "# First Name: \n",
    "# Last Name: "
   ]
  },
  {
   "cell_type": "code",
   "execution_count": 1,
   "metadata": {},
   "outputs": [],
   "source": [
    "# import pandas as pd\n",
    "import numpy as np\n",
    "import pandas as pd\n",
    "import seaborn as sns\n",
    "import matplotlib.pyplot as plt"
   ]
  },
  {
   "cell_type": "code",
   "execution_count": 2,
   "metadata": {},
   "outputs": [],
   "source": [
    "nesarc = pd.read_csv('nesarc.csv', low_memory=False)\n",
    "pd.set_option('display.float_format', lambda x:'%f'%x)"
   ]
  },
  {
   "cell_type": "code",
   "execution_count": 3,
   "metadata": {},
   "outputs": [],
   "source": [
    "nesarc['S3AQ3B1'] = pd.to_numeric(nesarc['S3AQ3B1'], errors='coerce') #convert variable to numeric\n",
    "nesarc['S3AQ3C1'] = pd.to_numeric(nesarc['S3AQ3C1'], errors='coerce') #convert variable to numeric\n",
    "nesarc['CHECK321'] = pd.to_numeric(nesarc['CHECK321'], errors='coerce') #convert variable to numeric\n",
    "nesarc['TAB12MDX'] = pd.to_numeric(nesarc['TAB12MDX'], errors='coerce') #convert variable to numeric\n",
    "nesarc['AGE'] = pd.to_numeric(nesarc['AGE'], errors='coerce') #convert variable to numeric"
   ]
  },
  {
   "cell_type": "code",
   "execution_count": 4,
   "metadata": {},
   "outputs": [],
   "source": [
    "sub1=nesarc[(nesarc['AGE']>=18) & (nesarc['AGE']<=25) & (nesarc['CHECK321']==1)]\n",
    "sub2=sub1.copy()"
   ]
  },
  {
   "cell_type": "code",
   "execution_count": 5,
   "metadata": {},
   "outputs": [],
   "source": [
    "#SETTING MISSING DATA\n",
    "sub2['S3AQ3B1']=sub2['S3AQ3B1'].replace(9, np.nan)\n",
    "sub2['S3AQ3C1']=sub2['S3AQ3C1'].replace(99, np.nan)"
   ]
  },
  {
   "cell_type": "code",
   "execution_count": 6,
   "metadata": {},
   "outputs": [],
   "source": [
    "recode2 = {1: 30, 2: 22, 3: 14, 4: 5, 5: 2.5, 6: 1}\n",
    "sub2['USFREQMO']= sub2['S3AQ3B1'].map(recode2)"
   ]
  },
  {
   "cell_type": "markdown",
   "metadata": {},
   "source": [
    "# Visualising a categorical variable - bar chart"
   ]
  },
  {
   "cell_type": "code",
   "execution_count": 7,
   "metadata": {},
   "outputs": [
    {
     "name": "stdout",
     "output_type": "stream",
     "text": [
      "       S3BQ1A1  ETHRACE2A ETOTLCA2  IDNUM    PSU  STRATUM       WEIGHT  CDAY  \\\n",
      "20          20          2   0.0099     21  36094     3616  1528.354757     2   \n",
      "76          76          5   0.2643     77  36094     3616  6172.249980    13   \n",
      "102        102          1    0.985    103  41097     4107  5515.974591    27   \n",
      "121        121          1   0.8888    122  31098     3109  4152.434010    23   \n",
      "135        135          1    0.017    136  12042     1218  8657.814391    11   \n",
      "...        ...        ...      ...    ...    ...      ...          ...   ...   \n",
      "42940    42940          2           42941  42099     4205  1564.139226     7   \n",
      "42989    42989          5   0.0999  42990   6046      605  3486.254607     9   \n",
      "42997    42997          1   0.6602  42998  53099     5304 12918.162000    14   \n",
      "43087    43087          1   0.2641  43088  42037     4209  9663.995112    23   \n",
      "43090    43090          1   0.3785  43091  18094     1802  8079.917091    16   \n",
      "\n",
      "       CMON  CYEAR  ...  HAL12ABDEP  HALP12ABDEP  MAR12ABDEP  MARP12ABDEP  \\\n",
      "20       11   2001  ...           0            0           0            0   \n",
      "76        3   2002  ...           0            0           0            0   \n",
      "102      10   2001  ...           0            1           0            1   \n",
      "121       9   2001  ...           0            0           0            0   \n",
      "135      12   2001  ...           0            0           0            1   \n",
      "...     ...    ...  ...         ...          ...         ...          ...   \n",
      "42940     2   2002  ...           0            0           0            0   \n",
      "42989     2   2002  ...           0            0           0            0   \n",
      "42997     2   2002  ...           0            0           0            1   \n",
      "43087     1   2002  ...           0            0           0            0   \n",
      "43090    10   2001  ...           0            0           0            0   \n",
      "\n",
      "       HER12ABDEP  HERP12ABDEP  OTHB12ABDEP  OTHBP12ABDEP  NDSymptoms  \\\n",
      "20              0            0            0             0    2.000000   \n",
      "76              0            0            0             0         nan   \n",
      "102             0            0            0             0    3.000000   \n",
      "121             0            0            0             0    3.000000   \n",
      "135             0            0            0             0    0.000000   \n",
      "...           ...          ...          ...           ...         ...   \n",
      "42940           0            0            0             0    4.000000   \n",
      "42989           0            0            0             0         nan   \n",
      "42997           0            0            0             0    6.000000   \n",
      "43087           0            0            0             0    2.000000   \n",
      "43090           0            0            0             0         nan   \n",
      "\n",
      "       USFREQMO  \n",
      "20    30.000000  \n",
      "76    22.000000  \n",
      "102   30.000000  \n",
      "121   30.000000  \n",
      "135   30.000000  \n",
      "...         ...  \n",
      "42940 30.000000  \n",
      "42989  5.000000  \n",
      "42997 30.000000  \n",
      "43087 30.000000  \n",
      "43090  1.000000  \n",
      "\n",
      "[1706 rows x 761 columns]\n"
     ]
    }
   ],
   "source": [
    "# univariate bar graph for categorical variables\n",
    "# First change format from numeric to categorical\n",
    "sub2[\"TAB12MDX\"] = sub2[\"TAB12MDX\"].astype('category')\n",
    "print(sub2)"
   ]
  },
  {
   "cell_type": "code",
   "execution_count": 8,
   "metadata": {},
   "outputs": [
    {
     "data": {
      "text/plain": [
       "Text(0.5, 1.0, 'Nicotine Dependence in the Past 12 Months Among\\n Young Adult Smokers in the NESARC Study')"
      ]
     },
     "execution_count": 8,
     "metadata": {},
     "output_type": "execute_result"
    },
    {
     "data": {
      "image/png": "[encoded data removed]",
      "text/plain": [
       "<Figure size 432x288 with 1 Axes>"
      ]
     },
     "metadata": {
      "needs_background": "light"
     },
     "output_type": "display_data"
    }
   ],
   "source": [
    "%matplotlib inline\n",
    "sns.countplot(x=\"TAB12MDX\", data=sub2)\n",
    "plt.xlabel('Nicotine Dependence past 12 months')\n",
    "plt.title('Nicotine Dependence in the Past 12 Months Among' + '\\n' + ' Young Adult Smokers in the NESARC Study')"
   ]
  },
  {
   "cell_type": "markdown",
   "metadata": {},
   "source": [
    "# Visualizing a quantitative variable - histogram"
   ]
  },
  {
   "cell_type": "code",
   "execution_count": 9,
   "metadata": {},
   "outputs": [],
   "source": [
    "# A secondary variable multiplying the number of days smoked/month and the approx number of cig smoked/day\n",
    "sub2['NUMCIGMO_EST']=sub2['USFREQMO'] * sub2['S3AQ3C1']"
   ]
  },
  {
   "cell_type": "code",
   "execution_count": 10,
   "metadata": {},
   "outputs": [
    {
     "data": {
      "text/plain": [
       "Text(0.5, 1.0, 'Estimated Number of Cigarettes per Month\\namong Young Adult Smokers in the NESARC Study')"
      ]
     },
     "execution_count": 10,
     "metadata": {},
     "output_type": "execute_result"
    },
    {
     "data": {
      "image/png": "[encoded data removed]",
      "text/plain": [
       "<Figure size 432x288 with 1 Axes>"
      ]
     },
     "metadata": {
      "needs_background": "light"
     },
     "output_type": "display_data"
    }
   ],
   "source": [
    "%matplotlib inline\n",
    "\n",
    "#Univariate histogram for quantitative variable:\n",
    "sns.distplot(sub2[\"NUMCIGMO_EST\"].dropna(), kde=False);\n",
    "plt.xlabel('Number of Cigarettes per Month')\n",
    "plt.title('Estimated Number of Cigarettes per Month' + '\\n' + 'among Young Adult Smokers in the NESARC Study')"
   ]
  },
  {
   "cell_type": "markdown",
   "metadata": {},
   "source": [
    "# Spread and centre - quantitative variable"
   ]
  },
  {
   "cell_type": "code",
   "execution_count": 11,
   "metadata": {},
   "outputs": [
    {
     "name": "stdout",
     "output_type": "stream",
     "text": [
      "describe number of cigarettes smoked per month\n",
      "count   1697.000000\n",
      "mean     320.304361\n",
      "std      274.436777\n",
      "min        1.000000\n",
      "25%       90.000000\n",
      "50%      300.000000\n",
      "75%      600.000000\n",
      "max     2940.000000\n",
      "Name: NUMCIGMO_EST, dtype: float64\n"
     ]
    }
   ],
   "source": [
    "# standard deviation and other descriptive statistics for quantitative variables\n",
    "print('describe number of cigarettes smoked per month')\n",
    "desc1 = sub2['NUMCIGMO_EST'].describe()\n",
    "print (desc1)"
   ]
  },
  {
   "cell_type": "markdown",
   "metadata": {},
   "source": [
    "# Alternative method"
   ]
  },
  {
   "cell_type": "code",
   "execution_count": 12,
   "metadata": {},
   "outputs": [
    {
     "name": "stdout",
     "output_type": "stream",
     "text": [
      "mean\n",
      "320.3043606364172\n",
      "std\n",
      "274.4367774906731\n",
      "min\n",
      "1.0\n",
      "max\n",
      "2940.0\n",
      "median\n",
      "300.0\n",
      "mode\n",
      "0   600.000000\n",
      "dtype: float64\n"
     ]
    }
   ],
   "source": [
    "print('mean')\n",
    "mean1 = sub2['NUMCIGMO_EST'].mean()\n",
    "print (mean1)\n",
    "\n",
    "print('std')\n",
    "std1 = sub2['NUMCIGMO_EST'].std()\n",
    "print (std1)\n",
    "\n",
    "print('min')\n",
    "min1 = sub2['NUMCIGMO_EST'].min()\n",
    "print (min1)\n",
    "\n",
    "print ('max')\n",
    "max1 = sub2['NUMCIGMO_EST'].max()\n",
    "print (max1)\n",
    "\n",
    "print ('median')\n",
    "median1 = sub2['NUMCIGMO_EST'].median()\n",
    "print (median1)\n",
    "\n",
    "print ('mode')\n",
    "mode1 = sub2['NUMCIGMO_EST'].mode()\n",
    "print (mode1)\n"
   ]
  },
  {
   "cell_type": "markdown",
   "metadata": {},
   "source": [
    "# Categorical variable describe()"
   ]
  },
  {
   "cell_type": "code",
   "execution_count": 13,
   "metadata": {},
   "outputs": [
    {
     "name": "stdout",
     "output_type": "stream",
     "text": [
      "describe nicotine dependence\n",
      "count     1706\n",
      "unique       2\n",
      "top          1\n",
      "freq       896\n",
      "Name: TAB12MDX, dtype: int64\n"
     ]
    }
   ],
   "source": [
    "print ('describe nicotine dependence')\n",
    "desc2 = sub2['TAB12MDX'].describe()\n",
    "print (desc2)"
   ]
  },
  {
   "cell_type": "markdown",
   "metadata": {},
   "source": [
    "# What if categorical data is treated like quantitative data"
   ]
  },
  {
   "cell_type": "code",
   "execution_count": 14,
   "metadata": {},
   "outputs": [],
   "source": [
    "sub2['TAB12MDX'] = pd.to_numeric(sub2['TAB12MDX']) # convert a numerical variable to quantitatie"
   ]
  },
  {
   "cell_type": "code",
   "execution_count": 15,
   "metadata": {},
   "outputs": [
    {
     "name": "stdout",
     "output_type": "stream",
     "text": [
      "describe nicotine dependence\n",
      "count   1706.000000\n",
      "mean       0.525205\n",
      "std        0.499511\n",
      "min        0.000000\n",
      "25%        0.000000\n",
      "50%        1.000000\n",
      "75%        1.000000\n",
      "max        1.000000\n",
      "Name: TAB12MDX, dtype: float64\n"
     ]
    }
   ],
   "source": [
    "print ('describe nicotine dependence')\n",
    "desc3 = sub2['TAB12MDX'].describe()\n",
    "print (desc3) #descriptor don't have sense"
   ]
  },
  {
   "cell_type": "markdown",
   "metadata": {},
   "source": [
    "# Visualising relationship between 2 variable\n",
    "# Quantitative -> Categorical - Bar chart"
   ]
  },
  {
   "cell_type": "code",
   "execution_count": 16,
   "metadata": {},
   "outputs": [],
   "source": [
    "# A secondary variable \n",
    "# number of cigarette smoked per month \n",
    "# assume that there is 20 cigarette in a pack\n",
    "sub2['PACKSPERMONTH']=sub2['NUMCIGMO_EST'] / 20"
   ]
  },
  {
   "cell_type": "code",
   "execution_count": 17,
   "metadata": {},
   "outputs": [
    {
     "name": "stdout",
     "output_type": "stream",
     "text": [
      "PACKSPERMONTH\n",
      "0.050000      29\n",
      "0.100000      14\n",
      "0.125000      11\n",
      "0.150000      12\n",
      "0.200000       2\n",
      "              ..\n",
      "52.500000      1\n",
      "60.000000     29\n",
      "90.000000      2\n",
      "120.000000     1\n",
      "147.000000     1\n",
      "Length: 66, dtype: int64\n"
     ]
    }
   ],
   "source": [
    "c2= sub2.groupby('PACKSPERMONTH').size()\n",
    "print (c2)"
   ]
  },
  {
   "cell_type": "code",
   "execution_count": 18,
   "metadata": {},
   "outputs": [],
   "source": [
    "sub2['PACKCATEGORY'] = pd.cut(sub2.PACKSPERMONTH, [0, 5, 10, 20, 30, 147])"
   ]
  },
  {
   "cell_type": "code",
   "execution_count": 19,
   "metadata": {},
   "outputs": [],
   "source": [
    "# change format from numeric to categorical\n",
    "sub2['PACKCATEGORY'] = sub2['PACKCATEGORY'].astype('category')"
   ]
  },
  {
   "cell_type": "code",
   "execution_count": 20,
   "metadata": {},
   "outputs": [
    {
     "name": "stdout",
     "output_type": "stream",
     "text": [
      "describe PACKCATEGORY\n",
      "count         1697\n",
      "unique           5\n",
      "top       (10, 20]\n",
      "freq           480\n",
      "Name: PACKCATEGORY, dtype: object\n",
      "pack category counts\n",
      "(0, 5]       431\n",
      "(5, 10]      232\n",
      "(10, 20]     480\n",
      "(20, 30]     467\n",
      "(30, 147]     87\n",
      "Name: PACKCATEGORY, dtype: int64\n"
     ]
    }
   ],
   "source": [
    "print('describe PACKCATEGORY')\n",
    "desc3 = sub2['PACKCATEGORY'].describe()\n",
    "print (desc3)\n",
    "\n",
    "print('pack category counts')\n",
    "c7 = sub2['PACKCATEGORY'].value_counts(sort=False, dropna=True)\n",
    "print(c7)"
   ]
  },
  {
   "cell_type": "code",
   "execution_count": 21,
   "metadata": {},
   "outputs": [
    {
     "data": {
      "text/plain": [
       "Text(6.799999999999997, 0.5, 'Proportion Nicotine Dependent')"
      ]
     },
     "execution_count": 21,
     "metadata": {},
     "output_type": "execute_result"
    },
    {
     "data": {
      "image/png": "[encoded data removed]",
      "text/plain": [
       "<Figure size 360x360 with 1 Axes>"
      ]
     },
     "metadata": {
      "needs_background": "light"
     },
     "output_type": "display_data"
    }
   ],
   "source": [
    "# bivariate bar graph Q->C\n",
    "sns.catplot(x=\"PACKCATEGORY\", y=\"TAB12MDX\", data=sub2, kind=\"bar\", ci=None)\n",
    "plt.xlabel('Packs per Month')\n",
    "plt.ylabel('Proportion Nicotine Dependent')"
   ]
  },
  {
   "cell_type": "markdown",
   "metadata": {},
   "source": [
    "# Visualising 2 variable\n",
    "# Categorical -> Categorical - Bar chart"
   ]
  },
  {
   "cell_type": "code",
   "execution_count": 22,
   "metadata": {},
   "outputs": [],
   "source": [
    "# you can rename categorical variable values for graphing if original values are not informative \n",
    "# first change the variable format to categorical if you haven’t already done so\n",
    "sub2['ETHRACE2A'] = sub2['ETHRACE2A'].astype('category')\n",
    "\n",
    "sub2['ETHRACE2A']=sub2['ETHRACE2A'].cat.rename_categories([\"White\", \"Black\", \"NatAm\", \"Asian\", \"Hispanic\"])"
   ]
  },
  {
   "cell_type": "code",
   "execution_count": 23,
   "metadata": {},
   "outputs": [
    {
     "name": "stdout",
     "output_type": "stream",
     "text": [
      "PACK_ADAY\n",
      "0.000000     383\n",
      "1.000000    1320\n",
      "dtype: int64\n"
     ]
    }
   ],
   "source": [
    "# second create a new variable (PACKADAY) that has the new variable value labels\n",
    "def PACK_ADAY (row):\n",
    "   if row['USFREQMO'] >= 30 :\n",
    "      return 1\n",
    "   elif row['USFREQMO'] < 30 :\n",
    "      return 0\n",
    "      \n",
    "sub2['PACK_ADAY'] = sub2.apply (lambda row: PACK_ADAY (row),axis=1)\n",
    "      \n",
    "c4= sub2.groupby('PACK_ADAY').size()\n",
    "print(c4)"
   ]
  },
  {
   "cell_type": "code",
   "execution_count": 24,
   "metadata": {},
   "outputs": [
    {
     "data": {
      "text/plain": [
       "Text(6.799999999999997, 0.5, 'Proportion of smoke a pack day Smokers')"
      ]
     },
     "execution_count": 24,
     "metadata": {},
     "output_type": "execute_result"
    },
    {
     "data": {
      "image/png": "[encoded data removed]",
      "text/plain": [
       "<Figure size 360x360 with 1 Axes>"
      ]
     },
     "metadata": {
      "needs_background": "light"
     },
     "output_type": "display_data"
    }
   ],
   "source": [
    "# bivariate bar graph C->C\n",
    "sns.catplot(x='ETHRACE2A', y='PACK_ADAY', data=sub2, kind=\"bar\", ci=None)\n",
    "plt.xlabel('Ethnic Group')\n",
    "plt.ylabel('Proportion of smoke a pack day Smokers')"
   ]
  },
  {
   "cell_type": "markdown",
   "metadata": {},
   "source": [
    "# Visualising 2 variable\n",
    "# Categorical -> Quantitative - box plot"
   ]
  },
  {
   "cell_type": "code",
   "execution_count": 25,
   "metadata": {},
   "outputs": [],
   "source": [
    "sub2['AGE'] = sub2['AGE'].astype('category') \n",
    "sub2['S1Q10A'] = pd.to_numeric(sub2['S1Q10A'])"
   ]
  },
  {
   "cell_type": "code",
   "execution_count": 26,
   "metadata": {},
   "outputs": [
    {
     "data": {
      "text/plain": [
       "Text(0, 0.5, 'Income')"
      ]
     },
     "execution_count": 26,
     "metadata": {},
     "output_type": "execute_result"
    },
    {
     "data": {
      "image/png": "[encoded data removed]",
      "text/plain": [
       "<Figure size 432x288 with 1 Axes>"
      ]
     },
     "metadata": {
      "needs_background": "light"
     },
     "output_type": "display_data"
    }
   ],
   "source": [
    "%matplotlib inline\n",
    "sns.boxplot(x='AGE', y='S1Q10A', data=sub2)\n",
    "plt.xlabel('Age')\n",
    "plt.ylabel('Income')"
   ]
  },
  {
   "cell_type": "markdown",
   "metadata": {},
   "source": [
    "# Visualising 2 variable\n",
    "# Quantitative -> Quantitative - scatter plot"
   ]
  },
  {
   "cell_type": "code",
   "execution_count": 27,
   "metadata": {},
   "outputs": [
    {
     "data": {
      "text/html": [
       "<div>\n",
       "<style scoped>\n",
       "    .dataframe tbody tr th:only-of-type {\n",
       "        vertical-align: middle;\n",
       "    }\n",
       "\n",
       "    .dataframe tbody tr th {\n",
       "        vertical-align: top;\n",
       "    }\n",
       "\n",
       "    .dataframe thead th {\n",
       "        text-align: right;\n",
       "    }\n",
       "</style>\n",
       "<table border=\"1\" class=\"dataframe\">\n",
       "  <thead>\n",
       "    <tr style=\"text-align: right;\">\n",
       "      <th></th>\n",
       "      <th>country</th>\n",
       "      <th>incomeperperson</th>\n",
       "      <th>alcconsumption</th>\n",
       "      <th>armedforcesrate</th>\n",
       "      <th>breastcancerper100th</th>\n",
       "      <th>co2emissions</th>\n",
       "      <th>femaleemployrate</th>\n",
       "      <th>hivrate</th>\n",
       "      <th>internetuserate</th>\n",
       "      <th>lifeexpectancy</th>\n",
       "      <th>oilperperson</th>\n",
       "      <th>polityscore</th>\n",
       "      <th>relectricperperson</th>\n",
       "      <th>suicideper100th</th>\n",
       "      <th>employrate</th>\n",
       "      <th>urbanrate</th>\n",
       "    </tr>\n",
       "  </thead>\n",
       "  <tbody>\n",
       "    <tr>\n",
       "      <th>0</th>\n",
       "      <td>Afghanistan</td>\n",
       "      <td></td>\n",
       "      <td>.03</td>\n",
       "      <td>.5696534</td>\n",
       "      <td>26.8</td>\n",
       "      <td>75944000</td>\n",
       "      <td>25.6000003814697</td>\n",
       "      <td></td>\n",
       "      <td>3.65412162280064</td>\n",
       "      <td>48.673</td>\n",
       "      <td></td>\n",
       "      <td>0</td>\n",
       "      <td></td>\n",
       "      <td>6.68438529968262</td>\n",
       "      <td>55.7000007629394</td>\n",
       "      <td>24.04</td>\n",
       "    </tr>\n",
       "    <tr>\n",
       "      <th>1</th>\n",
       "      <td>Albania</td>\n",
       "      <td>1914.99655094922</td>\n",
       "      <td>7.29</td>\n",
       "      <td>1.0247361</td>\n",
       "      <td>57.4</td>\n",
       "      <td>223747333.333333</td>\n",
       "      <td>42.0999984741211</td>\n",
       "      <td></td>\n",
       "      <td>44.9899469578783</td>\n",
       "      <td>76.918</td>\n",
       "      <td></td>\n",
       "      <td>9</td>\n",
       "      <td>636.341383366604</td>\n",
       "      <td>7.69932985305786</td>\n",
       "      <td>51.4000015258789</td>\n",
       "      <td>46.72</td>\n",
       "    </tr>\n",
       "    <tr>\n",
       "      <th>2</th>\n",
       "      <td>Algeria</td>\n",
       "      <td>2231.99333515006</td>\n",
       "      <td>.69</td>\n",
       "      <td>2.306817</td>\n",
       "      <td>23.5</td>\n",
       "      <td>2932108666.66667</td>\n",
       "      <td>31.7000007629394</td>\n",
       "      <td>.1</td>\n",
       "      <td>12.5000733055148</td>\n",
       "      <td>73.131</td>\n",
       "      <td>.42009452521537</td>\n",
       "      <td>2</td>\n",
       "      <td>590.509814347428</td>\n",
       "      <td>4.8487696647644</td>\n",
       "      <td>50.5</td>\n",
       "      <td>65.22</td>\n",
       "    </tr>\n",
       "    <tr>\n",
       "      <th>3</th>\n",
       "      <td>Andorra</td>\n",
       "      <td>21943.3398976022</td>\n",
       "      <td>10.17</td>\n",
       "      <td></td>\n",
       "      <td></td>\n",
       "      <td></td>\n",
       "      <td></td>\n",
       "      <td></td>\n",
       "      <td>81</td>\n",
       "      <td></td>\n",
       "      <td></td>\n",
       "      <td></td>\n",
       "      <td></td>\n",
       "      <td>5.36217880249023</td>\n",
       "      <td></td>\n",
       "      <td>88.92</td>\n",
       "    </tr>\n",
       "    <tr>\n",
       "      <th>4</th>\n",
       "      <td>Angola</td>\n",
       "      <td>1381.00426770244</td>\n",
       "      <td>5.57</td>\n",
       "      <td>1.4613288</td>\n",
       "      <td>23.1</td>\n",
       "      <td>248358000</td>\n",
       "      <td>69.4000015258789</td>\n",
       "      <td>2</td>\n",
       "      <td>9.99995388324075</td>\n",
       "      <td>51.093</td>\n",
       "      <td></td>\n",
       "      <td>-2</td>\n",
       "      <td>172.999227388199</td>\n",
       "      <td>14.5546770095825</td>\n",
       "      <td>75.6999969482422</td>\n",
       "      <td>56.7</td>\n",
       "    </tr>\n",
       "  </tbody>\n",
       "</table>\n",
       "</div>"
      ],
      "text/plain": [
       "       country   incomeperperson alcconsumption armedforcesrate  \\\n",
       "0  Afghanistan                              .03        .5696534   \n",
       "1      Albania  1914.99655094922           7.29       1.0247361   \n",
       "2      Algeria  2231.99333515006            .69        2.306817   \n",
       "3      Andorra  21943.3398976022          10.17                   \n",
       "4       Angola  1381.00426770244           5.57       1.4613288   \n",
       "\n",
       "  breastcancerper100th      co2emissions  femaleemployrate hivrate  \\\n",
       "0                 26.8          75944000  25.6000003814697           \n",
       "1                 57.4  223747333.333333  42.0999984741211           \n",
       "2                 23.5  2932108666.66667  31.7000007629394      .1   \n",
       "3                                                                    \n",
       "4                 23.1         248358000  69.4000015258789       2   \n",
       "\n",
       "    internetuserate lifeexpectancy     oilperperson polityscore  \\\n",
       "0  3.65412162280064         48.673                            0   \n",
       "1  44.9899469578783         76.918                            9   \n",
       "2  12.5000733055148         73.131  .42009452521537           2   \n",
       "3                81                                               \n",
       "4  9.99995388324075         51.093                           -2   \n",
       "\n",
       "  relectricperperson   suicideper100th        employrate urbanrate  \n",
       "0                     6.68438529968262  55.7000007629394     24.04  \n",
       "1   636.341383366604  7.69932985305786  51.4000015258789     46.72  \n",
       "2   590.509814347428   4.8487696647644              50.5     65.22  \n",
       "3                     5.36217880249023                       88.92  \n",
       "4   172.999227388199  14.5546770095825  75.6999969482422      56.7  "
      ]
     },
     "execution_count": 27,
     "metadata": {},
     "output_type": "execute_result"
    }
   ],
   "source": [
    "pd.set_option('display.float_format', lambda x:'%.2f'%x)\n",
    "\n",
    "gapminder = pd.read_csv('gapminder.csv', low_memory=False)\n",
    "gapminder.head()"
   ]
  },
  {
   "cell_type": "code",
   "execution_count": 28,
   "metadata": {},
   "outputs": [],
   "source": [
    "gapminder['internetuserate'] = pd.to_numeric(gapminder['internetuserate'],errors='coerce')\n",
    "gapminder['urbanrate'] = pd.to_numeric(gapminder['urbanrate'],errors='coerce')"
   ]
  },
  {
   "cell_type": "code",
   "execution_count": 29,
   "metadata": {},
   "outputs": [],
   "source": [
    "gapminder_clean=gapminder.dropna()"
   ]
  },
  {
   "cell_type": "code",
   "execution_count": 30,
   "metadata": {},
   "outputs": [
    {
     "data": {
      "text/plain": [
       "Text(0.5, 1.0, 'Scatterplot for the Association Between Urban Rate\\nand Internet Use Rate')"
      ]
     },
     "execution_count": 30,
     "metadata": {},
     "output_type": "execute_result"
    },
    {
     "data": {
      "image/png": "[encoded data removed]",
      "text/plain": [
       "<Figure size 432x288 with 1 Axes>"
      ]
     },
     "metadata": {
      "needs_background": "light"
     },
     "output_type": "display_data"
    }
   ],
   "source": [
    "%matplotlib inline\n",
    "plt.figure()\n",
    "\n",
    "scat1 = sns.regplot(x=\"urbanrate\", y=\"internetuserate\", fit_reg=False, data=gapminder_clean)\n",
    "plt.xlabel('Urban Rate')\n",
    "plt.ylabel('Internet Use Rate')\n",
    "plt.title('Scatterplot for the Association Between Urban Rate' + '\\n' + 'and Internet Use Rate')"
   ]
  }
 ],
 "metadata": {
  "kernelspec": {
   "display_name": "Python 3",
   "language": "python",
   "name": "python3"
  },
  "language_info": {
   "codemirror_mode": {
    "name": "ipython",
    "version": 3
   },
   "file_extension": ".py",
   "mimetype": "text/x-python",
   "name": "python",
   "nbconvert_exporter": "python",
   "pygments_lexer": "ipython3",
   "version": "3.8.8"
  }
 },
 "nbformat": 4,
 "nbformat_minor": 4
}
