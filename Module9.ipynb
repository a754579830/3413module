{
 "cells": [
  {
   "cell_type": "markdown",
   "metadata": {},
   "source": [
    "# First Name: Mangalam\n",
    "# Last Name: Sankupellay"
   ]
  },
  {
   "cell_type": "markdown",
   "metadata": {},
   "source": [
    "# Import Libraries"
   ]
  },
  {
   "cell_type": "code",
   "execution_count": 1,
   "metadata": {},
   "outputs": [],
   "source": [
    "import numpy as np\n",
    "import pandas as pd\n",
    "import seaborn as sns\n",
    "import matplotlib.pyplot as plt\n",
    "import statsmodels.formula.api as smf "
   ]
  },
  {
   "cell_type": "markdown",
   "metadata": {},
   "source": [
    "# Read in data"
   ]
  },
  {
   "cell_type": "code",
   "execution_count": 2,
   "metadata": {},
   "outputs": [
    {
     "data": {
      "text/html": [
       "<div>\n",
       "<style scoped>\n",
       "    .dataframe tbody tr th:only-of-type {\n",
       "        vertical-align: middle;\n",
       "    }\n",
       "\n",
       "    .dataframe tbody tr th {\n",
       "        vertical-align: top;\n",
       "    }\n",
       "\n",
       "    .dataframe thead th {\n",
       "        text-align: right;\n",
       "    }\n",
       "</style>\n",
       "<table border=\"1\" class=\"dataframe\">\n",
       "  <thead>\n",
       "    <tr style=\"text-align: right;\">\n",
       "      <th></th>\n",
       "      <th>Unnamed: 0</th>\n",
       "      <th>ETHRACE2A</th>\n",
       "      <th>ETOTLCA2</th>\n",
       "      <th>IDNUM</th>\n",
       "      <th>PSU</th>\n",
       "      <th>STRATUM</th>\n",
       "      <th>WEIGHT</th>\n",
       "      <th>CDAY</th>\n",
       "      <th>CMON</th>\n",
       "      <th>CYEAR</th>\n",
       "      <th>...</th>\n",
       "      <th>SOLP12ABDEP</th>\n",
       "      <th>HAL12ABDEP</th>\n",
       "      <th>HALP12ABDEP</th>\n",
       "      <th>MAR12ABDEP</th>\n",
       "      <th>MARP12ABDEP</th>\n",
       "      <th>HER12ABDEP</th>\n",
       "      <th>HERP12ABDEP</th>\n",
       "      <th>OTHB12ABDEP</th>\n",
       "      <th>OTHBP12ABDEP</th>\n",
       "      <th>NDSymptoms</th>\n",
       "    </tr>\n",
       "  </thead>\n",
       "  <tbody>\n",
       "    <tr>\n",
       "      <th>0</th>\n",
       "      <td>0</td>\n",
       "      <td>5</td>\n",
       "      <td></td>\n",
       "      <td>1</td>\n",
       "      <td>4007</td>\n",
       "      <td>403</td>\n",
       "      <td>3928.61</td>\n",
       "      <td>14</td>\n",
       "      <td>8</td>\n",
       "      <td>2001</td>\n",
       "      <td>...</td>\n",
       "      <td>0</td>\n",
       "      <td>0</td>\n",
       "      <td>0</td>\n",
       "      <td>0</td>\n",
       "      <td>0</td>\n",
       "      <td>0</td>\n",
       "      <td>0</td>\n",
       "      <td>0</td>\n",
       "      <td>0</td>\n",
       "      <td>nan</td>\n",
       "    </tr>\n",
       "    <tr>\n",
       "      <th>1</th>\n",
       "      <td>1</td>\n",
       "      <td>5</td>\n",
       "      <td>0.0014</td>\n",
       "      <td>2</td>\n",
       "      <td>6045</td>\n",
       "      <td>604</td>\n",
       "      <td>3638.69</td>\n",
       "      <td>12</td>\n",
       "      <td>1</td>\n",
       "      <td>2002</td>\n",
       "      <td>...</td>\n",
       "      <td>0</td>\n",
       "      <td>0</td>\n",
       "      <td>0</td>\n",
       "      <td>0</td>\n",
       "      <td>0</td>\n",
       "      <td>0</td>\n",
       "      <td>0</td>\n",
       "      <td>0</td>\n",
       "      <td>0</td>\n",
       "      <td>nan</td>\n",
       "    </tr>\n",
       "    <tr>\n",
       "      <th>2</th>\n",
       "      <td>2</td>\n",
       "      <td>5</td>\n",
       "      <td></td>\n",
       "      <td>3</td>\n",
       "      <td>12042</td>\n",
       "      <td>1218</td>\n",
       "      <td>5779.03</td>\n",
       "      <td>23</td>\n",
       "      <td>11</td>\n",
       "      <td>2001</td>\n",
       "      <td>...</td>\n",
       "      <td>0</td>\n",
       "      <td>0</td>\n",
       "      <td>0</td>\n",
       "      <td>0</td>\n",
       "      <td>0</td>\n",
       "      <td>0</td>\n",
       "      <td>0</td>\n",
       "      <td>0</td>\n",
       "      <td>0</td>\n",
       "      <td>nan</td>\n",
       "    </tr>\n",
       "    <tr>\n",
       "      <th>3</th>\n",
       "      <td>3</td>\n",
       "      <td>5</td>\n",
       "      <td></td>\n",
       "      <td>4</td>\n",
       "      <td>17099</td>\n",
       "      <td>1704</td>\n",
       "      <td>1071.75</td>\n",
       "      <td>9</td>\n",
       "      <td>9</td>\n",
       "      <td>2001</td>\n",
       "      <td>...</td>\n",
       "      <td>0</td>\n",
       "      <td>0</td>\n",
       "      <td>0</td>\n",
       "      <td>0</td>\n",
       "      <td>0</td>\n",
       "      <td>0</td>\n",
       "      <td>0</td>\n",
       "      <td>0</td>\n",
       "      <td>0</td>\n",
       "      <td>nan</td>\n",
       "    </tr>\n",
       "    <tr>\n",
       "      <th>4</th>\n",
       "      <td>4</td>\n",
       "      <td>2</td>\n",
       "      <td></td>\n",
       "      <td>5</td>\n",
       "      <td>17099</td>\n",
       "      <td>1704</td>\n",
       "      <td>4986.95</td>\n",
       "      <td>18</td>\n",
       "      <td>10</td>\n",
       "      <td>2001</td>\n",
       "      <td>...</td>\n",
       "      <td>0</td>\n",
       "      <td>0</td>\n",
       "      <td>0</td>\n",
       "      <td>0</td>\n",
       "      <td>0</td>\n",
       "      <td>0</td>\n",
       "      <td>0</td>\n",
       "      <td>0</td>\n",
       "      <td>0</td>\n",
       "      <td>nan</td>\n",
       "    </tr>\n",
       "  </tbody>\n",
       "</table>\n",
       "<p>5 rows × 3010 columns</p>\n",
       "</div>"
      ],
      "text/plain": [
       "   Unnamed: 0  ETHRACE2A ETOTLCA2  IDNUM    PSU  STRATUM  WEIGHT  CDAY  CMON  \\\n",
       "0           0          5               1   4007      403 3928.61    14     8   \n",
       "1           1          5   0.0014      2   6045      604 3638.69    12     1   \n",
       "2           2          5               3  12042     1218 5779.03    23    11   \n",
       "3           3          5               4  17099     1704 1071.75     9     9   \n",
       "4           4          2               5  17099     1704 4986.95    18    10   \n",
       "\n",
       "   CYEAR  ...  SOLP12ABDEP  HAL12ABDEP  HALP12ABDEP  MAR12ABDEP  MARP12ABDEP  \\\n",
       "0   2001  ...            0           0            0           0            0   \n",
       "1   2002  ...            0           0            0           0            0   \n",
       "2   2001  ...            0           0            0           0            0   \n",
       "3   2001  ...            0           0            0           0            0   \n",
       "4   2001  ...            0           0            0           0            0   \n",
       "\n",
       "   HER12ABDEP  HERP12ABDEP  OTHB12ABDEP  OTHBP12ABDEP  NDSymptoms  \n",
       "0           0            0            0             0         nan  \n",
       "1           0            0            0             0         nan  \n",
       "2           0            0            0             0         nan  \n",
       "3           0            0            0             0         nan  \n",
       "4           0            0            0             0         nan  \n",
       "\n",
       "[5 rows x 3010 columns]"
      ]
     },
     "execution_count": 2,
     "metadata": {},
     "output_type": "execute_result"
    }
   ],
   "source": [
    "pd.set_option('display.float_format', lambda x:'%.2f'%x)\n",
    "nesarc = pd.read_csv('nesarc - large.csv', low_memory=False)\n",
    "\n",
    "nesarc.head()"
   ]
  },
  {
   "cell_type": "code",
   "execution_count": 3,
   "metadata": {},
   "outputs": [],
   "source": [
    "nesarc['TAB12MDX'] = pd.to_numeric(nesarc['TAB12MDX'], errors='coerce')\n",
    "nesarc['S3AQ3C1'] = pd.to_numeric(nesarc['S3AQ3C1'], errors='coerce') \n",
    "nesarc['SOCPDLIFE'] = pd.to_numeric(nesarc['SOCPDLIFE'], errors='coerce')"
   ]
  },
  {
   "cell_type": "code",
   "execution_count": 4,
   "metadata": {},
   "outputs": [],
   "source": [
    "sub1=nesarc[(nesarc['AGE']>=18) & (nesarc['AGE']<=25) & (nesarc['CHECK321']==1)]\n",
    "sub2=sub1.copy()"
   ]
  },
  {
   "cell_type": "code",
   "execution_count": 5,
   "metadata": {},
   "outputs": [],
   "source": [
    "#SETTING MISSING DATA\n",
    "sub2['S3AQ3C1']=sub2['S3AQ3C1'].replace(99, np.nan)"
   ]
  },
  {
   "cell_type": "code",
   "execution_count": 7,
   "metadata": {},
   "outputs": [],
   "source": [
    "recode2 = {1: 30, 2: 22, 3: 14, 4: 5, 5: 2.5, 6: 1}\n",
    "sub2['USFREQMO']= sub2['S3AQ3B1'].map(recode2)"
   ]
  },
  {
   "cell_type": "code",
   "execution_count": 8,
   "metadata": {},
   "outputs": [],
   "source": [
    "#secondary variable multiplying the number of days smoked/month and the approx number of cig smoked/day\n",
    "sub2['NUMCIGMO_EST']=sub2['USFREQMO'] * sub2['S3AQ3C1'] #get the number of cigarettes smoked per month"
   ]
  },
  {
   "cell_type": "markdown",
   "metadata": {},
   "source": [
    "# Regression \n",
    "# Categorical Explanatory variable \n",
    "# Quantitative Response variable "
   ]
  },
  {
   "cell_type": "code",
   "execution_count": 9,
   "metadata": {},
   "outputs": [
    {
     "name": "stdout",
     "output_type": "stream",
     "text": [
      "                            OLS Regression Results                            \n",
      "==============================================================================\n",
      "Dep. Variable:           NUMCIGMO_EST   R-squared:                       0.091\n",
      "Model:                            OLS   Adj. R-squared:                  0.090\n",
      "Method:                 Least Squares   F-statistic:                     169.3\n",
      "Date:                Mon, 10 May 2021   Prob (F-statistic):           5.94e-37\n",
      "Time:                        14:33:56   Log-Likelihood:                -11855.\n",
      "No. Observations:                1697   AIC:                         2.371e+04\n",
      "Df Residuals:                    1695   BIC:                         2.372e+04\n",
      "Df Model:                           1                                         \n",
      "Covariance Type:            nonrobust                                         \n",
      "==============================================================================\n",
      "                 coef    std err          t      P>|t|      [0.025      0.975]\n",
      "------------------------------------------------------------------------------\n",
      "Intercept    232.9757      9.243     25.205      0.000     214.847     251.105\n",
      "TAB12MDX     165.5830     12.728     13.010      0.000     140.620     190.546\n",
      "==============================================================================\n",
      "Omnibus:                      711.454   Durbin-Watson:                   1.970\n",
      "Prob(Omnibus):                  0.000   Jarque-Bera (JB):             5858.067\n",
      "Skew:                           1.752   Prob(JB):                         0.00\n",
      "Kurtosis:                      11.400   Cond. No.                         2.69\n",
      "==============================================================================\n",
      "\n",
      "Warnings:\n",
      "[1] Standard Errors assume that the covariance matrix of the errors is correctly specified.\n"
     ]
    }
   ],
   "source": [
    "reg1 = smf.ols('NUMCIGMO_EST ~ TAB12MDX', data=sub2).fit()\n",
    "print (reg1.summary())"
   ]
  },
  {
   "cell_type": "code",
   "execution_count": 10,
   "metadata": {},
   "outputs": [],
   "source": [
    "sub3 = sub2[['NUMCIGMO_EST', 'TAB12MDX']].dropna()"
   ]
  },
  {
   "cell_type": "code",
   "execution_count": 11,
   "metadata": {},
   "outputs": [
    {
     "name": "stdout",
     "output_type": "stream",
     "text": [
      "Mean\n",
      "          NUMCIGMO_EST\n",
      "TAB12MDX              \n",
      "0               232.98\n",
      "1               398.56\n",
      "Standard deviation\n",
      "          NUMCIGMO_EST\n",
      "TAB12MDX              \n",
      "0               233.42\n",
      "1               284.77\n"
     ]
    }
   ],
   "source": [
    "# group means & sd\n",
    "print (\"Mean\")\n",
    "ds1 = sub3.groupby('TAB12MDX').mean()\n",
    "print (ds1)\n",
    "print (\"Standard deviation\")\n",
    "ds2 = sub3.groupby('TAB12MDX').std()\n",
    "print (ds2)"
   ]
  },
  {
   "cell_type": "code",
   "execution_count": 12,
   "metadata": {},
   "outputs": [
    {
     "name": "stderr",
     "output_type": "stream",
     "text": [
      "C:\\Users\\jc790999\\Anaconda3\\lib\\site-packages\\seaborn\\categorical.py:3666: UserWarning: The `factorplot` function has been renamed to `catplot`. The original name will be removed in a future release. Please update your code. Note that the default `kind` in `factorplot` (`'point'`) has changed `'strip'` in `catplot`.\n",
      "  warnings.warn(msg)\n"
     ]
    },
    {
     "data": {
      "text/plain": [
       "Text(3.674999999999997, 0.5, 'Mean Number of cigarettes smoked')"
      ]
     },
     "execution_count": 12,
     "metadata": {},
     "output_type": "execute_result"
    },
    {
     "data": {
      "image/png": "[encoded data removed]",
      "text/plain": [
       "<Figure size 360x360 with 1 Axes>"
      ]
     },
     "metadata": {
      "needs_background": "light"
     },
     "output_type": "display_data"
    }
   ],
   "source": [
    "# bivariate bar graph\n",
    "%matplotlib inline\n",
    "sns.factorplot(x=\"TAB12MDX\", y=\"NUMCIGMO_EST\", data=sub3, kind=\"bar\", ci=None)\n",
    "plt.xlabel('Nicotine Dependence')\n",
    "plt.ylabel('Mean Number of cigarettes smoked')"
   ]
  },
  {
   "cell_type": "markdown",
   "metadata": {},
   "source": [
    "# Logistical Regression - Example 1"
   ]
  },
  {
   "cell_type": "code",
   "execution_count": 14,
   "metadata": {},
   "outputs": [],
   "source": [
    "# subset data for logistic regression analyses 18-25, smoked everday in past month)\n",
    "sub1=nesarc[(nesarc['AGE']>=18) & (nesarc['AGE']<=25) & (nesarc['CHECK321']==1) & (nesarc['S3AQ3B1']==1)]\n",
    "sub2 = sub1.copy()"
   ]
  },
  {
   "cell_type": "code",
   "execution_count": 15,
   "metadata": {},
   "outputs": [
    {
     "name": "stdout",
     "output_type": "stream",
     "text": [
      "Optimization terminated successfully.\n",
      "         Current function value: 0.664381\n",
      "         Iterations 5\n",
      "                           Logit Regression Results                           \n",
      "==============================================================================\n",
      "Dep. Variable:               TAB12MDX   No. Observations:                 1320\n",
      "Model:                          Logit   Df Residuals:                     1318\n",
      "Method:                           MLE   Df Model:                            1\n",
      "Date:                Mon, 10 May 2021   Pseudo R-squ.:                0.009574\n",
      "Time:                        14:38:12   Log-Likelihood:                -876.98\n",
      "converged:                       True   LL-Null:                       -885.46\n",
      "Covariance Type:            nonrobust   LLR p-value:                 3.829e-05\n",
      "==============================================================================\n",
      "                 coef    std err          z      P>|z|      [0.025      0.975]\n",
      "------------------------------------------------------------------------------\n",
      "Intercept      0.3776      0.057      6.569      0.000       0.265       0.490\n",
      "SOCPDLIFE      1.2318      0.335      3.674      0.000       0.575       1.889\n",
      "==============================================================================\n"
     ]
    }
   ],
   "source": [
    "# logistic regression with social phobia\n",
    "lreg1 = smf.logit(formula = 'TAB12MDX ~ SOCPDLIFE', data = sub2).fit()\n",
    "print (lreg1.summary())"
   ]
  },
  {
   "cell_type": "code",
   "execution_count": 16,
   "metadata": {},
   "outputs": [
    {
     "name": "stdout",
     "output_type": "stream",
     "text": [
      "           Lower CI  Upper CI   OR\n",
      "Intercept      1.30      1.63 1.46\n",
      "SOCPDLIFE      1.78      6.61 3.43\n"
     ]
    }
   ],
   "source": [
    "# odd ratios with 95% confidence intervals\n",
    "params = lreg1.params\n",
    "conf = lreg1.conf_int()\n",
    "conf['OR'] = params\n",
    "conf.columns = ['Lower CI', 'Upper CI', 'OR']\n",
    "print (np.exp(conf))"
   ]
  },
  {
   "cell_type": "markdown",
   "metadata": {},
   "source": [
    "# Logistical Regression - Example 2"
   ]
  },
  {
   "cell_type": "code",
   "execution_count": 17,
   "metadata": {},
   "outputs": [],
   "source": [
    "sub2['MAJORDEPLIFE'] = pd.to_numeric(sub2['MAJORDEPLIFE'], errors='coerce')"
   ]
  },
  {
   "cell_type": "code",
   "execution_count": 18,
   "metadata": {},
   "outputs": [
    {
     "name": "stdout",
     "output_type": "stream",
     "text": [
      "Optimization terminated successfully.\n",
      "         Current function value: 0.632175\n",
      "         Iterations 6\n",
      "                           Logit Regression Results                           \n",
      "==============================================================================\n",
      "Dep. Variable:               TAB12MDX   No. Observations:                 1320\n",
      "Model:                          Logit   Df Residuals:                     1317\n",
      "Method:                           MLE   Df Model:                            2\n",
      "Date:                Mon, 10 May 2021   Pseudo R-squ.:                 0.05758\n",
      "Time:                        14:43:17   Log-Likelihood:                -834.47\n",
      "converged:                       True   LL-Null:                       -885.46\n",
      "Covariance Type:            nonrobust   LLR p-value:                 7.177e-23\n",
      "================================================================================\n",
      "                   coef    std err          z      P>|z|      [0.025      0.975]\n",
      "--------------------------------------------------------------------------------\n",
      "Intercept        0.0939      0.065      1.444      0.149      -0.034       0.221\n",
      "SOCPDLIFE        0.8393      0.347      2.416      0.016       0.158       1.520\n",
      "MAJORDEPLIFE     1.3072      0.152      8.588      0.000       1.009       1.606\n",
      "================================================================================\n"
     ]
    }
   ],
   "source": [
    "# logistic regression with social phobia and depression\n",
    "lreg2 = smf.logit(formula = 'TAB12MDX ~ SOCPDLIFE + MAJORDEPLIFE', data = sub2).fit()\n",
    "print (lreg2.summary())"
   ]
  },
  {
   "cell_type": "code",
   "execution_count": 19,
   "metadata": {},
   "outputs": [
    {
     "name": "stdout",
     "output_type": "stream",
     "text": [
      "              Lower CI  Upper CI   OR\n",
      "Intercept         0.97      1.25 1.10\n",
      "SOCPDLIFE         1.17      4.57 2.31\n",
      "MAJORDEPLIFE      2.74      4.98 3.70\n"
     ]
    }
   ],
   "source": [
    "# odd ratios with 95% confidence intervals\n",
    "params = lreg2.params\n",
    "conf = lreg2.conf_int()\n",
    "conf['OR'] = params\n",
    "conf.columns = ['Lower CI', 'Upper CI', 'OR']\n",
    "print (np.exp(conf))"
   ]
  },
  {
   "cell_type": "markdown",
   "metadata": {},
   "source": [
    "# Logistical Regression - Example 3"
   ]
  },
  {
   "cell_type": "code",
   "execution_count": 20,
   "metadata": {},
   "outputs": [
    {
     "name": "stdout",
     "output_type": "stream",
     "text": [
      "0    1201\n",
      "1     119\n",
      "Name: PANIC, dtype: int64\n"
     ]
    }
   ],
   "source": [
    "def PANIC (x1):\n",
    "    if ((x1['S6Q1']==1 and x1['S6Q2']==1) or (x1['S6Q2']==1 and x1['S6Q3']==1) or \n",
    "    (x1['S6Q3']==1 and x1['S6Q61']==1) or (x1['S6Q61']==1 and x1['S6Q62']==1) or \n",
    "    (x1['S6Q62']==1 and x1['S6Q63']==1) or (x1['S6Q63']==1 and x1['S6Q64']==1) or \n",
    "    (x1['S6Q64']==1 and x1['S6Q65']==1) or (x1['S6Q65']==1 and x1['S6Q66']==1) or \n",
    "    (x1['S6Q66']==1 and x1['S6Q67']==1) or (x1['S6Q67']==1 and x1['S6Q68']==1) or \n",
    "    (x1['S6Q68']==1 and x1['S6Q69']==1) or (x1['S6Q69']==1 and x1['S6Q610']==1) or \n",
    "    (x1['S6Q610']==1 and x1['S6Q611']==1) or (x1['S6Q611']==1 and x1['S6Q612']==1) or \n",
    "    (x1['S6Q612']==1 and x1['S6Q613']==1) or (x1['S6Q613']==1 and x1['S6Q7']==1) or \n",
    "    x1['S6Q7']==1):\n",
    "        return 1\n",
    "    else:\n",
    "        return 0\n",
    "sub2['PANIC'] = sub1.apply (lambda x1: PANIC (x1), axis=1)\n",
    "c7 = sub2[\"PANIC\"].value_counts(sort=False, dropna=False)\n",
    "print(c7)"
   ]
  },
  {
   "cell_type": "code",
   "execution_count": 21,
   "metadata": {},
   "outputs": [
    {
     "name": "stdout",
     "output_type": "stream",
     "text": [
      "Optimization terminated successfully.\n",
      "         Current function value: 0.668985\n",
      "         Iterations 5\n",
      "                           Logit Regression Results                           \n",
      "==============================================================================\n",
      "Dep. Variable:               TAB12MDX   No. Observations:                 1320\n",
      "Model:                          Logit   Df Residuals:                     1318\n",
      "Method:                           MLE   Df Model:                            1\n",
      "Date:                Mon, 10 May 2021   Pseudo R-squ.:                0.002709\n",
      "Time:                        14:46:40   Log-Likelihood:                -883.06\n",
      "converged:                       True   LL-Null:                       -885.46\n",
      "Covariance Type:            nonrobust   LLR p-value:                   0.02849\n",
      "==============================================================================\n",
      "                 coef    std err          z      P>|z|      [0.025      0.975]\n",
      "------------------------------------------------------------------------------\n",
      "Intercept      0.3895      0.059      6.624      0.000       0.274       0.505\n",
      "PANIC          0.4458      0.208      2.143      0.032       0.038       0.854\n",
      "==============================================================================\n"
     ]
    }
   ],
   "source": [
    "# logistic regression with panic\n",
    "lreg3 = smf.logit(formula = 'TAB12MDX ~ PANIC', data = sub2).fit()\n",
    "print (lreg3.summary())"
   ]
  },
  {
   "cell_type": "code",
   "execution_count": 22,
   "metadata": {},
   "outputs": [
    {
     "name": "stdout",
     "output_type": "stream",
     "text": [
      "Odds Ratios\n",
      "           Lower CI  Upper CI   OR\n",
      "Intercept      1.32      1.66 1.48\n",
      "PANIC          1.04      2.35 1.56\n"
     ]
    }
   ],
   "source": [
    "# odd ratios with 95% confidence intervals\n",
    "print (\"Odds Ratios\")\n",
    "params = lreg3.params\n",
    "conf = lreg3.conf_int()\n",
    "conf['OR'] = params\n",
    "conf.columns = ['Lower CI', 'Upper CI', 'OR']\n",
    "print (np.exp(conf))"
   ]
  },
  {
   "cell_type": "markdown",
   "metadata": {},
   "source": [
    "# Logistical Regression - Example 4"
   ]
  },
  {
   "cell_type": "code",
   "execution_count": 23,
   "metadata": {},
   "outputs": [
    {
     "name": "stdout",
     "output_type": "stream",
     "text": [
      "Optimization terminated successfully.\n",
      "         Current function value: 0.634684\n",
      "         Iterations 5\n",
      "                           Logit Regression Results                           \n",
      "==============================================================================\n",
      "Dep. Variable:               TAB12MDX   No. Observations:                 1320\n",
      "Model:                          Logit   Df Residuals:                     1317\n",
      "Method:                           MLE   Df Model:                            2\n",
      "Date:                Mon, 10 May 2021   Pseudo R-squ.:                 0.05384\n",
      "Time:                        14:48:21   Log-Likelihood:                -837.78\n",
      "converged:                       True   LL-Null:                       -885.46\n",
      "Covariance Type:            nonrobust   LLR p-value:                 1.969e-21\n",
      "================================================================================\n",
      "                   coef    std err          z      P>|z|      [0.025      0.975]\n",
      "--------------------------------------------------------------------------------\n",
      "Intercept        0.1115      0.066      1.701      0.089      -0.017       0.240\n",
      "PANIC            0.0478      0.222      0.215      0.830      -0.387       0.483\n",
      "MAJORDEPLIFE     1.3563      0.154      8.827      0.000       1.055       1.657\n",
      "================================================================================\n"
     ]
    }
   ],
   "source": [
    "# logistic regression with panic and depression\n",
    "lreg4 = smf.logit(formula = 'TAB12MDX ~ PANIC + MAJORDEPLIFE', data = sub2).fit()\n",
    "print (lreg4.summary())"
   ]
  },
  {
   "cell_type": "code",
   "execution_count": 24,
   "metadata": {},
   "outputs": [
    {
     "name": "stdout",
     "output_type": "stream",
     "text": [
      "Odds Ratios\n",
      "              Lower CI  Upper CI   OR\n",
      "Intercept         0.98      1.27 1.12\n",
      "PANIC             0.68      1.62 1.05\n",
      "MAJORDEPLIFE      2.87      5.25 3.88\n"
     ]
    }
   ],
   "source": [
    "# odd ratios with 95% confidence intervals\n",
    "print (\"Odds Ratios\")\n",
    "params = lreg4.params\n",
    "conf = lreg4.conf_int()\n",
    "conf['OR'] = params\n",
    "conf.columns = ['Lower CI', 'Upper CI', 'OR']\n",
    "print (np.exp(conf))"
   ]
  },
  {
   "cell_type": "code",
   "execution_count": null,
   "metadata": {},
   "outputs": [],
   "source": []
  }
 ],
 "metadata": {
  "kernelspec": {
   "display_name": "Python 3",
   "language": "python",
   "name": "python3"
  },
  "language_info": {
   "codemirror_mode": {
    "name": "ipython",
    "version": 3
   },
   "file_extension": ".py",
   "mimetype": "text/x-python",
   "name": "python",
   "nbconvert_exporter": "python",
   "pygments_lexer": "ipython3",
   "version": "3.8.3"
  }
 },
 "nbformat": 4,
 "nbformat_minor": 4
}
