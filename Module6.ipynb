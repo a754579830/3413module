{
 "cells": [
  {
   "cell_type": "markdown",
   "metadata": {},
   "source": [
    "# First Name:\n",
    "# Last Name:"
   ]
  },
  {
   "cell_type": "code",
   "execution_count": 1,
   "metadata": {},
   "outputs": [],
   "source": [
    "#import pandas & numpy\n",
    "import pandas as pd\n",
    "import numpy as np\n",
    "import scipy.stats  #I usually keep scipy as scipy because you will need to access it libraries separately. \n",
    "import seaborn as sns\n",
    "import matplotlib.pyplot as plt"
   ]
  },
  {
   "cell_type": "code",
   "execution_count": 2,
   "metadata": {},
   "outputs": [],
   "source": [
    "#read in csv file into \n",
    "nesarc = pd.read_csv('nesarc.csv', low_memory=False) #increase efficiency\n",
    "pd.set_option('display.float_format', lambda x:'%f'%x)"
   ]
  },
  {
   "cell_type": "code",
   "execution_count": 3,
   "metadata": {},
   "outputs": [],
   "source": [
    "#setting variables you will be working with to numeric\n",
    "nesarc['S3AQ3B1'] = pd.to_numeric(nesarc['S3AQ3B1']) #convert variable to numeric\n",
    "nesarc['S3AQ3C1'] = pd.to_numeric(nesarc['S3AQ3C1']) #convert variable to numeric\n",
    "nesarc['CHECK321'] = pd.to_numeric(nesarc['CHECK321']) #convert variable to numeric\n",
    "nesarc['TAB12MDX'] = pd.to_numeric(nesarc['TAB12MDX']) #convert variable to numeric\n",
    "nesarc['AGE'] = pd.to_numeric(nesarc['AGE']) #convert variable to numeric"
   ]
  },
  {
   "cell_type": "code",
   "execution_count": 4,
   "metadata": {},
   "outputs": [],
   "source": [
    "#subset data to young adults age 18 to 25 who have smoked in the past 12 months\n",
    "sub1=nesarc[(nesarc['AGE']>=18) & (nesarc['AGE']<=25) & (nesarc['CHECK321']==1)]"
   ]
  },
  {
   "cell_type": "code",
   "execution_count": 5,
   "metadata": {},
   "outputs": [],
   "source": [
    "sub2=sub1.copy()"
   ]
  },
  {
   "cell_type": "code",
   "execution_count": 6,
   "metadata": {},
   "outputs": [],
   "source": [
    "#SETTING MISSING DATA\n",
    "sub2['S3AQ3B1']=sub2['S3AQ3B1'].replace(9, np.nan)\n",
    "sub2['S3AQ3C1']=sub2['S3AQ3C1'].replace(99, np.nan)"
   ]
  },
  {
   "cell_type": "code",
   "execution_count": 7,
   "metadata": {},
   "outputs": [],
   "source": [
    "#recoding number of days smoked in the past month\n",
    "recode1 = {1: 30, 2: 22, 3: 14, 4: 5, 5: 2.5, 6: 1}\n",
    "sub2['USFREQMO'] = sub2['S3AQ3B1'].map(recode1)"
   ]
  },
  {
   "cell_type": "markdown",
   "metadata": {},
   "source": [
    "# contingency table of observed counts - between nicotine dependence (TAB12MDX) and smoking frequency  (USFREQMO)"
   ]
  },
  {
   "cell_type": "code",
   "execution_count": 8,
   "metadata": {},
   "outputs": [
    {
     "name": "stdout",
     "output_type": "stream",
     "text": [
      "USFREQMO  1.000000   2.500000   5.000000   14.000000  22.000000  30.000000\n",
      "TAB12MDX                                                                  \n",
      "0                64         53         69         59         41        521\n",
      "1                 7         12         19         32         27        799\n"
     ]
    }
   ],
   "source": [
    "ct1=pd.crosstab(sub2['TAB12MDX'], sub2['USFREQMO'])\n",
    "print (ct1) "
   ]
  },
  {
   "cell_type": "markdown",
   "metadata": {},
   "source": [
    "# contingency table of observed percentages - between nicotine dependence (TAB12MDX) and smoking frequency  (USFREQMO)"
   ]
  },
  {
   "cell_type": "code",
   "execution_count": 9,
   "metadata": {},
   "outputs": [
    {
     "name": "stdout",
     "output_type": "stream",
     "text": [
      "USFREQMO  1.000000   2.500000   5.000000   14.000000  22.000000  30.000000\n",
      "TAB12MDX                                                                  \n",
      "0          0.901408   0.815385   0.784091   0.648352   0.602941   0.394697\n",
      "1          0.098592   0.184615   0.215909   0.351648   0.397059   0.605303\n"
     ]
    }
   ],
   "source": [
    "# column percentages\n",
    "colsum=ct1.sum(axis=0)\n",
    "colpct=ct1/colsum\n",
    "print(colpct)"
   ]
  },
  {
   "cell_type": "markdown",
   "metadata": {},
   "source": [
    "# chi-square analysis between between nicotine dependence (TAB12MDX) and smoking frequency  (USFREQMO)"
   ]
  },
  {
   "cell_type": "code",
   "execution_count": 10,
   "metadata": {},
   "outputs": [
    {
     "name": "stdout",
     "output_type": "stream",
     "text": [
      "chi-square value, p value, expected counts\n",
      "(165.27320708055845, 7.436364208390599e-34, 5, array([[ 33.64474457,  30.80152672,  41.70052848,  43.1221374 ,\n",
      "         32.22313564, 625.50792719],\n",
      "       [ 37.35525543,  34.19847328,  46.29947152,  47.8778626 ,\n",
      "         35.77686436, 694.49207281]]))\n"
     ]
    }
   ],
   "source": [
    "print ('chi-square value, p value, expected counts')\n",
    "cs1= scipy.stats.chi2_contingency(ct1)\n",
    "print (cs1)"
   ]
  },
  {
   "cell_type": "markdown",
   "metadata": {},
   "source": [
    "# Bar plot to show relationship between between nicotine dependence (TAB12MDX) and smoking frequency  (USFREQMO)"
   ]
  },
  {
   "cell_type": "code",
   "execution_count": 11,
   "metadata": {
    "scrolled": true
   },
   "outputs": [
    {
     "name": "stderr",
     "output_type": "stream",
     "text": [
      "C:\\Users\\jc790999\\Anaconda3\\lib\\site-packages\\seaborn\\categorical.py:3666: UserWarning: The `factorplot` function has been renamed to `catplot`. The original name will be removed in a future release. Please update your code. Note that the default `kind` in `factorplot` (`'point'`) has changed `'strip'` in `catplot`.\n",
      "  warnings.warn(msg)\n"
     ]
    },
    {
     "data": {
      "text/plain": [
       "Text(6.799999999999997, 0.5, 'Proportion Nicotine Dependent')"
      ]
     },
     "execution_count": 11,
     "metadata": {},
     "output_type": "execute_result"
    },
    {
     "data": {
      "image/png": "[encoded data removed]",
      "text/plain": [
       "<Figure size 360x360 with 1 Axes>"
      ]
     },
     "metadata": {
      "needs_background": "light"
     },
     "output_type": "display_data"
    }
   ],
   "source": [
    "%matplotlib inline\n",
    "sns.factorplot(x=\"USFREQMO\", y=\"TAB12MDX\", data=sub2, kind=\"bar\", ci=None)\n",
    "plt.xlabel('Days smoked per month')\n",
    "plt.ylabel('Proportion Nicotine Dependent')"
   ]
  },
  {
   "cell_type": "markdown",
   "metadata": {},
   "source": [
    "# Post-hoc analysis"
   ]
  },
  {
   "cell_type": "code",
   "execution_count": 12,
   "metadata": {},
   "outputs": [],
   "source": [
    "recode2 = {1: 1, 2.5: 2.5}\n",
    "sub2['COMP1v2']= sub2['USFREQMO'].map(recode2)"
   ]
  },
  {
   "cell_type": "code",
   "execution_count": 13,
   "metadata": {},
   "outputs": [
    {
     "name": "stdout",
     "output_type": "stream",
     "text": [
      "COMP1v2   1.000000  2.500000\n",
      "TAB12MDX                    \n",
      "0               64        53\n",
      "1                7        12\n"
     ]
    }
   ],
   "source": [
    "# contingency table of observed counts\n",
    "ct2=pd.crosstab(sub2['TAB12MDX'], sub2['COMP1v2'])\n",
    "print (ct2)"
   ]
  },
  {
   "cell_type": "code",
   "execution_count": 14,
   "metadata": {},
   "outputs": [
    {
     "name": "stdout",
     "output_type": "stream",
     "text": [
      "COMP1v2   1.000000  2.500000\n",
      "TAB12MDX                    \n",
      "0         0.901408  0.815385\n",
      "1         0.098592  0.184615\n"
     ]
    }
   ],
   "source": [
    "# column percentages\n",
    "colsum=ct2.sum(axis=0)\n",
    "colpct=ct2/colsum\n",
    "print(colpct)"
   ]
  },
  {
   "cell_type": "code",
   "execution_count": 15,
   "metadata": {},
   "outputs": [
    {
     "name": "stdout",
     "output_type": "stream",
     "text": [
      "chi-square value, p value, expected counts\n",
      "(1.4348930637007287, 0.2309675448977717, 1, array([[61.08088235, 55.91911765],\n",
      "       [ 9.91911765,  9.08088235]]))\n"
     ]
    }
   ],
   "source": [
    "print ('chi-square value, p value, expected counts')\n",
    "cs2= scipy.stats.chi2_contingency(ct2)\n",
    "print (cs2)"
   ]
  },
  {
   "cell_type": "code",
   "execution_count": 16,
   "metadata": {},
   "outputs": [
    {
     "name": "stdout",
     "output_type": "stream",
     "text": [
      "COMP1v6   1.000000\n",
      "TAB12MDX          \n",
      "0               64\n",
      "1                7\n",
      "COMP1v6   1.000000\n",
      "TAB12MDX          \n",
      "0         0.901408\n",
      "1         0.098592\n",
      "chi-square value, p value, expected counts\n",
      "(0.0, 1.0, 0, array([[64.],\n",
      "       [ 7.]]))\n"
     ]
    }
   ],
   "source": [
    "recode3 = {1: 1, 6: 6}\n",
    "sub2['COMP1v6']= sub2['USFREQMO'].map(recode3)\n",
    "\n",
    "# contingency table of observed counts\n",
    "ct3=pd.crosstab(sub2['TAB12MDX'], sub2['COMP1v6'])\n",
    "print (ct3)\n",
    "\n",
    "# column percentages\n",
    "colsum=ct3.sum(axis=0)\n",
    "colpct=ct3/colsum\n",
    "print(colpct)\n",
    "\n",
    "print ('chi-square value, p value, expected counts')\n",
    "cs3= scipy.stats.chi2_contingency(ct3)\n",
    "print (cs3)\n"
   ]
  },
  {
   "cell_type": "code",
   "execution_count": 17,
   "metadata": {},
   "outputs": [
    {
     "name": "stdout",
     "output_type": "stream",
     "text": [
      "COMP2v6   2.500000\n",
      "TAB12MDX          \n",
      "0               53\n",
      "1               12\n",
      "COMP2v6   2.500000\n",
      "TAB12MDX          \n",
      "0         0.815385\n",
      "1         0.184615\n",
      "chi-square value, p value, expected counts\n",
      "(0.0, 1.0, 0, array([[53.],\n",
      "       [12.]]))\n"
     ]
    }
   ],
   "source": [
    "recode7 = {2.5: 2.5, 6: 6}\n",
    "sub2['COMP2v6']= sub2['USFREQMO'].map(recode7)\n",
    "\n",
    "# contingency table of observed counts\n",
    "ct7=pd.crosstab(sub2['TAB12MDX'], sub2['COMP2v6'])\n",
    "print (ct7)\n",
    "\n",
    "# column percentages\n",
    "colsum=ct7.sum(axis=0)\n",
    "colpct=ct7/colsum\n",
    "print(colpct)\n",
    "\n",
    "print ('chi-square value, p value, expected counts')\n",
    "cs7=scipy.stats.chi2_contingency(ct7)\n",
    "print (cs7)"
   ]
  },
  {
   "cell_type": "markdown",
   "metadata": {},
   "source": [
    "# Post-hoc Analysis - Concise Code"
   ]
  },
  {
   "cell_type": "code",
   "execution_count": 18,
   "metadata": {},
   "outputs": [
    {
     "name": "stdout",
     "output_type": "stream",
     "text": [
      "\n",
      " 1  versus  2.5 Chi value:  1.4348930637007287 \t\tp value:  0.2309675448977717\n",
      "\n",
      " 1  versus  6 Chi value:  0.0 \t\tp value:  1.0\n",
      "\n",
      " 1  versus  14 Chi value:  12.622564075461572 \t\tp value:  0.00038111819882681824\n",
      "\n",
      " 1  versus  22 Chi value:  15.169488833230059 \t\tp value:  9.827865291318501e-05\n",
      "\n",
      " 1  versus  30 Chi value:  68.92471874488487 \t\tp value:  1.0229460827061155e-16\n",
      "\n",
      " 2.5  versus  6 Chi value:  0.0 \t\tp value:  1.0\n",
      "\n",
      " 2.5  versus  14 Chi value:  4.431818181818181 \t\tp value:  0.03527491197129336\n",
      "\n",
      " 2.5  versus  22 Chi value:  6.248385015909925 \t\tp value:  0.012430659126995465\n",
      "\n",
      " 2.5  versus  30 Chi value:  43.46078854872059 \t\tp value:  4.3254035345221375e-11\n",
      "\n",
      " 6  versus  14 Chi value:  0.0 \t\tp value:  1.0\n",
      "\n",
      " 6  versus  22 Chi value:  0.0 \t\tp value:  1.0\n",
      "\n",
      " 6  versus  30 Chi value:  0.0 \t\tp value:  1.0\n",
      "\n",
      " 14  versus  22 Chi value:  0.17682550562597954 \t\tp value:  0.6741156651467135\n",
      "\n",
      " 14  versus  30 Chi value:  21.58990211008873 \t\tp value:  3.3762471991994404e-06\n",
      "\n",
      " 22  versus  30 Chi value:  10.790430063585951 \t\tp value:  0.0010202617594665616\n"
     ]
    }
   ],
   "source": [
    "sub3=sub2.copy()\n",
    "cat = [1,2.5,6,14,22,30]\n",
    "\n",
    "for x in range(0,len(cat)-1):\n",
    "    for y in range(x+1,len(cat)):\n",
    "        recode = { cat[x]:cat[x], cat[y]:cat[y]}\n",
    "        sub3['temp'] = sub3['USFREQMO'].map(recode)\n",
    "        cont=pd.crosstab(sub3['TAB12MDX'], sub3['temp'])\n",
    "        cs= scipy.stats.chi2_contingency(cont)\n",
    "        print(\"\\n\", cat[x], \" versus \", cat[y],\n",
    "              \"Chi value: \", cs[0], \"\\t\\tp value: \", cs[1])"
   ]
  },
  {
   "cell_type": "code",
   "execution_count": null,
   "metadata": {},
   "outputs": [],
   "source": []
  }
 ],
 "metadata": {
  "kernelspec": {
   "display_name": "Python 3",
   "language": "python",
   "name": "python3"
  },
  "language_info": {
   "codemirror_mode": {
    "name": "ipython",
    "version": 3
   },
   "file_extension": ".py",
   "mimetype": "text/x-python",
   "name": "python",
   "nbconvert_exporter": "python",
   "pygments_lexer": "ipython3",
   "version": "3.8.8"
  }
 },
 "nbformat": 4,
 "nbformat_minor": 4
}
