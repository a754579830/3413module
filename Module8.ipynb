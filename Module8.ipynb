{
 "cells": [
  {
   "cell_type": "markdown",
   "metadata": {},
   "source": [
    "# First Name:\n",
    "# Last Name:"
   ]
  },
  {
   "cell_type": "code",
   "execution_count": 1,
   "metadata": {},
   "outputs": [],
   "source": [
    "import pandas as pd\n",
    "import numpy as np\n",
    "import seaborn as sns\n",
    "import matplotlib.pyplot as plt\n",
    "import statsmodels.formula.api as smf"
   ]
  },
  {
   "cell_type": "code",
   "execution_count": 2,
   "metadata": {},
   "outputs": [
    {
     "data": {
      "text/html": [
       "<div>\n",
       "<style scoped>\n",
       "    .dataframe tbody tr th:only-of-type {\n",
       "        vertical-align: middle;\n",
       "    }\n",
       "\n",
       "    .dataframe tbody tr th {\n",
       "        vertical-align: top;\n",
       "    }\n",
       "\n",
       "    .dataframe thead th {\n",
       "        text-align: right;\n",
       "    }\n",
       "</style>\n",
       "<table border=\"1\" class=\"dataframe\">\n",
       "  <thead>\n",
       "    <tr style=\"text-align: right;\">\n",
       "      <th></th>\n",
       "      <th>country</th>\n",
       "      <th>incomeperperson</th>\n",
       "      <th>alcconsumption</th>\n",
       "      <th>armedforcesrate</th>\n",
       "      <th>breastcancerper100th</th>\n",
       "      <th>co2emissions</th>\n",
       "      <th>femaleemployrate</th>\n",
       "      <th>hivrate</th>\n",
       "      <th>internetuserate</th>\n",
       "      <th>lifeexpectancy</th>\n",
       "      <th>oilperperson</th>\n",
       "      <th>polityscore</th>\n",
       "      <th>relectricperperson</th>\n",
       "      <th>suicideper100th</th>\n",
       "      <th>employrate</th>\n",
       "      <th>urbanrate</th>\n",
       "    </tr>\n",
       "  </thead>\n",
       "  <tbody>\n",
       "    <tr>\n",
       "      <th>0</th>\n",
       "      <td>Afghanistan</td>\n",
       "      <td></td>\n",
       "      <td>.03</td>\n",
       "      <td>.5696534</td>\n",
       "      <td>26.8</td>\n",
       "      <td>75944000</td>\n",
       "      <td>25.6000003814697</td>\n",
       "      <td></td>\n",
       "      <td>3.65412162280064</td>\n",
       "      <td>48.673</td>\n",
       "      <td></td>\n",
       "      <td>0</td>\n",
       "      <td></td>\n",
       "      <td>6.68438529968262</td>\n",
       "      <td>55.7000007629394</td>\n",
       "      <td>24.04</td>\n",
       "    </tr>\n",
       "    <tr>\n",
       "      <th>1</th>\n",
       "      <td>Albania</td>\n",
       "      <td>1914.99655094922</td>\n",
       "      <td>7.29</td>\n",
       "      <td>1.0247361</td>\n",
       "      <td>57.4</td>\n",
       "      <td>223747333.333333</td>\n",
       "      <td>42.0999984741211</td>\n",
       "      <td></td>\n",
       "      <td>44.9899469578783</td>\n",
       "      <td>76.918</td>\n",
       "      <td></td>\n",
       "      <td>9</td>\n",
       "      <td>636.341383366604</td>\n",
       "      <td>7.69932985305786</td>\n",
       "      <td>51.4000015258789</td>\n",
       "      <td>46.72</td>\n",
       "    </tr>\n",
       "    <tr>\n",
       "      <th>2</th>\n",
       "      <td>Algeria</td>\n",
       "      <td>2231.99333515006</td>\n",
       "      <td>.69</td>\n",
       "      <td>2.306817</td>\n",
       "      <td>23.5</td>\n",
       "      <td>2932108666.66667</td>\n",
       "      <td>31.7000007629394</td>\n",
       "      <td>.1</td>\n",
       "      <td>12.5000733055148</td>\n",
       "      <td>73.131</td>\n",
       "      <td>.42009452521537</td>\n",
       "      <td>2</td>\n",
       "      <td>590.509814347428</td>\n",
       "      <td>4.8487696647644</td>\n",
       "      <td>50.5</td>\n",
       "      <td>65.22</td>\n",
       "    </tr>\n",
       "    <tr>\n",
       "      <th>3</th>\n",
       "      <td>Andorra</td>\n",
       "      <td>21943.3398976022</td>\n",
       "      <td>10.17</td>\n",
       "      <td></td>\n",
       "      <td></td>\n",
       "      <td></td>\n",
       "      <td></td>\n",
       "      <td></td>\n",
       "      <td>81</td>\n",
       "      <td></td>\n",
       "      <td></td>\n",
       "      <td></td>\n",
       "      <td></td>\n",
       "      <td>5.36217880249023</td>\n",
       "      <td></td>\n",
       "      <td>88.92</td>\n",
       "    </tr>\n",
       "    <tr>\n",
       "      <th>4</th>\n",
       "      <td>Angola</td>\n",
       "      <td>1381.00426770244</td>\n",
       "      <td>5.57</td>\n",
       "      <td>1.4613288</td>\n",
       "      <td>23.1</td>\n",
       "      <td>248358000</td>\n",
       "      <td>69.4000015258789</td>\n",
       "      <td>2</td>\n",
       "      <td>9.99995388324075</td>\n",
       "      <td>51.093</td>\n",
       "      <td></td>\n",
       "      <td>-2</td>\n",
       "      <td>172.999227388199</td>\n",
       "      <td>14.5546770095825</td>\n",
       "      <td>75.6999969482422</td>\n",
       "      <td>56.7</td>\n",
       "    </tr>\n",
       "  </tbody>\n",
       "</table>\n",
       "</div>"
      ],
      "text/plain": [
       "       country   incomeperperson alcconsumption armedforcesrate  \\\n",
       "0  Afghanistan                              .03        .5696534   \n",
       "1      Albania  1914.99655094922           7.29       1.0247361   \n",
       "2      Algeria  2231.99333515006            .69        2.306817   \n",
       "3      Andorra  21943.3398976022          10.17                   \n",
       "4       Angola  1381.00426770244           5.57       1.4613288   \n",
       "\n",
       "  breastcancerper100th      co2emissions  femaleemployrate hivrate  \\\n",
       "0                 26.8          75944000  25.6000003814697           \n",
       "1                 57.4  223747333.333333  42.0999984741211           \n",
       "2                 23.5  2932108666.66667  31.7000007629394      .1   \n",
       "3                                                                    \n",
       "4                 23.1         248358000  69.4000015258789       2   \n",
       "\n",
       "    internetuserate lifeexpectancy     oilperperson polityscore  \\\n",
       "0  3.65412162280064         48.673                            0   \n",
       "1  44.9899469578783         76.918                            9   \n",
       "2  12.5000733055148         73.131  .42009452521537           2   \n",
       "3                81                                               \n",
       "4  9.99995388324075         51.093                           -2   \n",
       "\n",
       "  relectricperperson   suicideper100th        employrate urbanrate  \n",
       "0                     6.68438529968262  55.7000007629394     24.04  \n",
       "1   636.341383366604  7.69932985305786  51.4000015258789     46.72  \n",
       "2   590.509814347428   4.8487696647644              50.5     65.22  \n",
       "3                     5.36217880249023                       88.92  \n",
       "4   172.999227388199  14.5546770095825  75.6999969482422      56.7  "
      ]
     },
     "execution_count": 2,
     "metadata": {},
     "output_type": "execute_result"
    }
   ],
   "source": [
    "pd.set_option('display.float_format', lambda x:'%.2f'%x)\n",
    "\n",
    "gapminder = pd.read_csv('gapminder.csv', low_memory=False)\n",
    "gapminder.head()"
   ]
  },
  {
   "cell_type": "code",
   "execution_count": 3,
   "metadata": {},
   "outputs": [],
   "source": [
    "gapminder['internetuserate'] = pd.to_numeric(gapminder['internetuserate'],errors='coerce')\n",
    "gapminder['urbanrate'] = pd.to_numeric(gapminder['urbanrate'],errors='coerce')\n",
    "gapminder['incomeperperson'] = pd.to_numeric(gapminder['incomeperperson'],errors='coerce')"
   ]
  },
  {
   "cell_type": "markdown",
   "metadata": {},
   "source": [
    "# Example 1 - Linear and Multiple"
   ]
  },
  {
   "cell_type": "code",
   "execution_count": 4,
   "metadata": {},
   "outputs": [
    {
     "data": {
      "text/html": [
       "<div>\n",
       "<style scoped>\n",
       "    .dataframe tbody tr th:only-of-type {\n",
       "        vertical-align: middle;\n",
       "    }\n",
       "\n",
       "    .dataframe tbody tr th {\n",
       "        vertical-align: top;\n",
       "    }\n",
       "\n",
       "    .dataframe thead th {\n",
       "        text-align: right;\n",
       "    }\n",
       "</style>\n",
       "<table border=\"1\" class=\"dataframe\">\n",
       "  <thead>\n",
       "    <tr style=\"text-align: right;\">\n",
       "      <th></th>\n",
       "      <th>internetuserate</th>\n",
       "      <th>urbanrate</th>\n",
       "      <th>incomeperperson</th>\n",
       "    </tr>\n",
       "  </thead>\n",
       "  <tbody>\n",
       "    <tr>\n",
       "      <th>1</th>\n",
       "      <td>44.99</td>\n",
       "      <td>46.72</td>\n",
       "      <td>1915.00</td>\n",
       "    </tr>\n",
       "    <tr>\n",
       "      <th>2</th>\n",
       "      <td>12.50</td>\n",
       "      <td>65.22</td>\n",
       "      <td>2231.99</td>\n",
       "    </tr>\n",
       "    <tr>\n",
       "      <th>3</th>\n",
       "      <td>81.00</td>\n",
       "      <td>88.92</td>\n",
       "      <td>21943.34</td>\n",
       "    </tr>\n",
       "    <tr>\n",
       "      <th>4</th>\n",
       "      <td>10.00</td>\n",
       "      <td>56.70</td>\n",
       "      <td>1381.00</td>\n",
       "    </tr>\n",
       "    <tr>\n",
       "      <th>5</th>\n",
       "      <td>80.65</td>\n",
       "      <td>30.46</td>\n",
       "      <td>11894.46</td>\n",
       "    </tr>\n",
       "  </tbody>\n",
       "</table>\n",
       "</div>"
      ],
      "text/plain": [
       "   internetuserate  urbanrate  incomeperperson\n",
       "1            44.99      46.72          1915.00\n",
       "2            12.50      65.22          2231.99\n",
       "3            81.00      88.92         21943.34\n",
       "4            10.00      56.70          1381.00\n",
       "5            80.65      30.46         11894.46"
      ]
     },
     "execution_count": 4,
     "metadata": {},
     "output_type": "execute_result"
    }
   ],
   "source": [
    "sub1 = gapminder[['internetuserate', 'urbanrate', 'incomeperperson']].dropna()\n",
    "sub1.head()"
   ]
  },
  {
   "cell_type": "code",
   "execution_count": 5,
   "metadata": {},
   "outputs": [
    {
     "data": {
      "text/html": [
       "<div>\n",
       "<style scoped>\n",
       "    .dataframe tbody tr th:only-of-type {\n",
       "        vertical-align: middle;\n",
       "    }\n",
       "\n",
       "    .dataframe tbody tr th {\n",
       "        vertical-align: top;\n",
       "    }\n",
       "\n",
       "    .dataframe thead th {\n",
       "        text-align: right;\n",
       "    }\n",
       "</style>\n",
       "<table border=\"1\" class=\"dataframe\">\n",
       "  <thead>\n",
       "    <tr style=\"text-align: right;\">\n",
       "      <th></th>\n",
       "      <th>internetuserate</th>\n",
       "      <th>urbanrate</th>\n",
       "      <th>incomeperperson</th>\n",
       "      <th>internetuserate_c</th>\n",
       "      <th>urbanrate_c</th>\n",
       "      <th>incomeperperson_c</th>\n",
       "    </tr>\n",
       "  </thead>\n",
       "  <tbody>\n",
       "    <tr>\n",
       "      <th>1</th>\n",
       "      <td>44.99</td>\n",
       "      <td>46.72</td>\n",
       "      <td>1915.00</td>\n",
       "      <td>9.70</td>\n",
       "      <td>-9.18</td>\n",
       "      <td>-6368.35</td>\n",
       "    </tr>\n",
       "    <tr>\n",
       "      <th>2</th>\n",
       "      <td>12.50</td>\n",
       "      <td>65.22</td>\n",
       "      <td>2231.99</td>\n",
       "      <td>-22.79</td>\n",
       "      <td>9.32</td>\n",
       "      <td>-6051.36</td>\n",
       "    </tr>\n",
       "    <tr>\n",
       "      <th>3</th>\n",
       "      <td>81.00</td>\n",
       "      <td>88.92</td>\n",
       "      <td>21943.34</td>\n",
       "      <td>45.71</td>\n",
       "      <td>33.02</td>\n",
       "      <td>13659.99</td>\n",
       "    </tr>\n",
       "    <tr>\n",
       "      <th>4</th>\n",
       "      <td>10.00</td>\n",
       "      <td>56.70</td>\n",
       "      <td>1381.00</td>\n",
       "      <td>-25.29</td>\n",
       "      <td>0.80</td>\n",
       "      <td>-6902.35</td>\n",
       "    </tr>\n",
       "    <tr>\n",
       "      <th>5</th>\n",
       "      <td>80.65</td>\n",
       "      <td>30.46</td>\n",
       "      <td>11894.46</td>\n",
       "      <td>45.36</td>\n",
       "      <td>-25.44</td>\n",
       "      <td>3611.11</td>\n",
       "    </tr>\n",
       "  </tbody>\n",
       "</table>\n",
       "</div>"
      ],
      "text/plain": [
       "   internetuserate  urbanrate  incomeperperson  internetuserate_c  \\\n",
       "1            44.99      46.72          1915.00               9.70   \n",
       "2            12.50      65.22          2231.99             -22.79   \n",
       "3            81.00      88.92         21943.34              45.71   \n",
       "4            10.00      56.70          1381.00             -25.29   \n",
       "5            80.65      30.46         11894.46              45.36   \n",
       "\n",
       "   urbanrate_c  incomeperperson_c  \n",
       "1        -9.18           -6368.35  \n",
       "2         9.32           -6051.36  \n",
       "3        33.02           13659.99  \n",
       "4         0.80           -6902.35  \n",
       "5       -25.44            3611.11  "
      ]
     },
     "execution_count": 5,
     "metadata": {},
     "output_type": "execute_result"
    }
   ],
   "source": [
    "# center quantitative variables for regression analysis\n",
    "sub1['internetuserate_c'] = (sub1['internetuserate'] - sub1['internetuserate'].mean())\n",
    "sub1['urbanrate_c'] = (sub1['urbanrate'] - sub1['urbanrate'].mean())\n",
    "sub1['incomeperperson_c'] = (sub1['incomeperperson'] - sub1['incomeperperson'].mean())\n",
    "\n",
    "sub1.head()"
   ]
  },
  {
   "cell_type": "code",
   "execution_count": 6,
   "metadata": {},
   "outputs": [
    {
     "name": "stdout",
     "output_type": "stream",
     "text": [
      "                            OLS Regression Results                            \n",
      "==============================================================================\n",
      "Dep. Variable:      internetuserate_c   R-squared:                       0.652\n",
      "Model:                            OLS   Adj. R-squared:                  0.648\n",
      "Method:                 Least Squares   F-statistic:                     167.7\n",
      "Date:                Tue, 27 Apr 2021   Prob (F-statistic):           9.18e-42\n",
      "Time:                        07:35:06   Log-Likelihood:                -768.44\n",
      "No. Observations:                 182   AIC:                             1543.\n",
      "Df Residuals:                     179   BIC:                             1552.\n",
      "Df Model:                           2                                         \n",
      "Covariance Type:            nonrobust                                         \n",
      "=====================================================================================\n",
      "                        coef    std err          t      P>|t|      [0.025      0.975]\n",
      "-------------------------------------------------------------------------------------\n",
      "Intercept          3.351e-15      1.233   2.72e-15      1.000      -2.433       2.433\n",
      "urbanrate_c           0.4038      0.060      6.747      0.000       0.286       0.522\n",
      "incomeperperson_c     0.0013      0.000     11.613      0.000       0.001       0.002\n",
      "==============================================================================\n",
      "Omnibus:                        7.883   Durbin-Watson:                   2.106\n",
      "Prob(Omnibus):                  0.019   Jarque-Bera (JB):                7.683\n",
      "Skew:                           0.486   Prob(JB):                       0.0215\n",
      "Kurtosis:                       3.265   Cond. No.                     1.25e+04\n",
      "==============================================================================\n",
      "\n",
      "Warnings:\n",
      "[1] Standard Errors assume that the covariance matrix of the errors is correctly specified.\n",
      "[2] The condition number is large, 1.25e+04. This might indicate that there are\n",
      "strong multicollinearity or other numerical problems.\n"
     ]
    }
   ],
   "source": [
    "reg1 = smf.ols('internetuserate_c ~ urbanrate_c + incomeperperson_c', data=sub1).fit()\n",
    "print (reg1.summary())"
   ]
  },
  {
   "cell_type": "markdown",
   "metadata": {},
   "source": [
    "# Example 2 - Linear"
   ]
  },
  {
   "cell_type": "code",
   "execution_count": 7,
   "metadata": {},
   "outputs": [
    {
     "data": {
      "text/html": [
       "<div>\n",
       "<style scoped>\n",
       "    .dataframe tbody tr th:only-of-type {\n",
       "        vertical-align: middle;\n",
       "    }\n",
       "\n",
       "    .dataframe tbody tr th {\n",
       "        vertical-align: top;\n",
       "    }\n",
       "\n",
       "    .dataframe thead th {\n",
       "        text-align: right;\n",
       "    }\n",
       "</style>\n",
       "<table border=\"1\" class=\"dataframe\">\n",
       "  <thead>\n",
       "    <tr style=\"text-align: right;\">\n",
       "      <th></th>\n",
       "      <th>urbanrate</th>\n",
       "      <th>femaleemployrate</th>\n",
       "    </tr>\n",
       "  </thead>\n",
       "  <tbody>\n",
       "    <tr>\n",
       "      <th>0</th>\n",
       "      <td>24.04</td>\n",
       "      <td>25.60</td>\n",
       "    </tr>\n",
       "    <tr>\n",
       "      <th>1</th>\n",
       "      <td>46.72</td>\n",
       "      <td>42.10</td>\n",
       "    </tr>\n",
       "    <tr>\n",
       "      <th>2</th>\n",
       "      <td>65.22</td>\n",
       "      <td>31.70</td>\n",
       "    </tr>\n",
       "    <tr>\n",
       "      <th>4</th>\n",
       "      <td>56.70</td>\n",
       "      <td>69.40</td>\n",
       "    </tr>\n",
       "    <tr>\n",
       "      <th>6</th>\n",
       "      <td>92.00</td>\n",
       "      <td>45.90</td>\n",
       "    </tr>\n",
       "  </tbody>\n",
       "</table>\n",
       "</div>"
      ],
      "text/plain": [
       "   urbanrate  femaleemployrate\n",
       "0      24.04             25.60\n",
       "1      46.72             42.10\n",
       "2      65.22             31.70\n",
       "4      56.70             69.40\n",
       "6      92.00             45.90"
      ]
     },
     "execution_count": 7,
     "metadata": {},
     "output_type": "execute_result"
    }
   ],
   "source": [
    "# convert to numeric format\n",
    "gapminder['femaleemployrate'] = pd.to_numeric(gapminder['femaleemployrate'], errors='coerce')\n",
    "sub2 = gapminder[['urbanrate', 'femaleemployrate']].dropna()\n",
    "sub2.head()"
   ]
  },
  {
   "cell_type": "code",
   "execution_count": 8,
   "metadata": {},
   "outputs": [
    {
     "data": {
      "text/plain": [
       "Text(0, 0.5, 'Female Employment Rate')"
      ]
     },
     "execution_count": 8,
     "metadata": {},
     "output_type": "execute_result"
    },
    {
     "data": {
      "image/png": "[encoded data removed]",
      "text/plain": [
       "<Figure size 432x288 with 1 Axes>"
      ]
     },
     "metadata": {
      "needs_background": "light"
     },
     "output_type": "display_data"
    }
   ],
   "source": [
    "%matplotlib inline\n",
    "plt.figure()\n",
    "# first order (linear) scatterplot\n",
    "scat1 = sns.regplot(x=\"urbanrate\", y=\"femaleemployrate\", fit_reg=True, data=sub2)\n",
    "\n",
    "plt.xlabel('Urban Rate')\n",
    "plt.ylabel('Female Employment Rate')"
   ]
  },
  {
   "cell_type": "code",
   "execution_count": 9,
   "metadata": {},
   "outputs": [
    {
     "data": {
      "text/html": [
       "<div>\n",
       "<style scoped>\n",
       "    .dataframe tbody tr th:only-of-type {\n",
       "        vertical-align: middle;\n",
       "    }\n",
       "\n",
       "    .dataframe tbody tr th {\n",
       "        vertical-align: top;\n",
       "    }\n",
       "\n",
       "    .dataframe thead th {\n",
       "        text-align: right;\n",
       "    }\n",
       "</style>\n",
       "<table border=\"1\" class=\"dataframe\">\n",
       "  <thead>\n",
       "    <tr style=\"text-align: right;\">\n",
       "      <th></th>\n",
       "      <th>urbanrate</th>\n",
       "      <th>femaleemployrate</th>\n",
       "      <th>urbanrate_c</th>\n",
       "      <th>femaleemployrate_c</th>\n",
       "    </tr>\n",
       "  </thead>\n",
       "  <tbody>\n",
       "    <tr>\n",
       "      <th>0</th>\n",
       "      <td>24.04</td>\n",
       "      <td>25.60</td>\n",
       "      <td>-32.60</td>\n",
       "      <td>-22.15</td>\n",
       "    </tr>\n",
       "    <tr>\n",
       "      <th>1</th>\n",
       "      <td>46.72</td>\n",
       "      <td>42.10</td>\n",
       "      <td>-9.92</td>\n",
       "      <td>-5.65</td>\n",
       "    </tr>\n",
       "    <tr>\n",
       "      <th>2</th>\n",
       "      <td>65.22</td>\n",
       "      <td>31.70</td>\n",
       "      <td>8.58</td>\n",
       "      <td>-16.05</td>\n",
       "    </tr>\n",
       "    <tr>\n",
       "      <th>4</th>\n",
       "      <td>56.70</td>\n",
       "      <td>69.40</td>\n",
       "      <td>0.06</td>\n",
       "      <td>21.65</td>\n",
       "    </tr>\n",
       "    <tr>\n",
       "      <th>6</th>\n",
       "      <td>92.00</td>\n",
       "      <td>45.90</td>\n",
       "      <td>35.36</td>\n",
       "      <td>-1.85</td>\n",
       "    </tr>\n",
       "  </tbody>\n",
       "</table>\n",
       "</div>"
      ],
      "text/plain": [
       "   urbanrate  femaleemployrate  urbanrate_c  femaleemployrate_c\n",
       "0      24.04             25.60       -32.60              -22.15\n",
       "1      46.72             42.10        -9.92               -5.65\n",
       "2      65.22             31.70         8.58              -16.05\n",
       "4      56.70             69.40         0.06               21.65\n",
       "6      92.00             45.90        35.36               -1.85"
      ]
     },
     "execution_count": 9,
     "metadata": {},
     "output_type": "execute_result"
    }
   ],
   "source": [
    "sub2['urbanrate_c'] = (sub2['urbanrate'] - sub2['urbanrate'].mean())\n",
    "sub2['femaleemployrate_c'] = (sub2['femaleemployrate'] - sub2['femaleemployrate'].mean())\n",
    "\n",
    "sub2.head()"
   ]
  },
  {
   "cell_type": "code",
   "execution_count": 10,
   "metadata": {},
   "outputs": [
    {
     "name": "stdout",
     "output_type": "stream",
     "text": [
      "                            OLS Regression Results                            \n",
      "==============================================================================\n",
      "Dep. Variable:     femaleemployrate_c   R-squared:                       0.092\n",
      "Model:                            OLS   Adj. R-squared:                  0.086\n",
      "Method:                 Least Squares   F-statistic:                     17.28\n",
      "Date:                Tue, 27 Apr 2021   Prob (F-statistic):           5.08e-05\n",
      "Time:                        07:35:07   Log-Likelihood:                -702.52\n",
      "No. Observations:                 173   AIC:                             1409.\n",
      "Df Residuals:                     171   BIC:                             1415.\n",
      "Df Model:                           1                                         \n",
      "Covariance Type:            nonrobust                                         \n",
      "===============================================================================\n",
      "                  coef    std err          t      P>|t|      [0.025      0.975]\n",
      "-------------------------------------------------------------------------------\n",
      "Intercept    5.773e-15      1.074   5.38e-15      1.000      -2.119       2.119\n",
      "urbanrate_c    -0.1924      0.046     -4.157      0.000      -0.284      -0.101\n",
      "==============================================================================\n",
      "Omnibus:                        2.906   Durbin-Watson:                   1.794\n",
      "Prob(Omnibus):                  0.234   Jarque-Bera (JB):                2.963\n",
      "Skew:                          -0.297   Prob(JB):                        0.227\n",
      "Kurtosis:                       2.757   Cond. No.                         23.2\n",
      "==============================================================================\n",
      "\n",
      "Warnings:\n",
      "[1] Standard Errors assume that the covariance matrix of the errors is correctly specified.\n"
     ]
    }
   ],
   "source": [
    "reg2 = smf.ols('femaleemployrate_c ~ urbanrate_c', data=sub2).fit()\n",
    "print (reg2.summary())"
   ]
  },
  {
   "cell_type": "markdown",
   "metadata": {},
   "source": [
    "# Example 2 - Polynomial"
   ]
  },
  {
   "cell_type": "code",
   "execution_count": 11,
   "metadata": {},
   "outputs": [
    {
     "data": {
      "text/plain": [
       "Text(0, 0.5, 'Female Employment Rate')"
      ]
     },
     "execution_count": 11,
     "metadata": {},
     "output_type": "execute_result"
    },
    {
     "data": {
      "image/png": "[encoded data removed]",
      "text/plain": [
       "<Figure size 432x288 with 1 Axes>"
      ]
     },
     "metadata": {
      "needs_background": "light"
     },
     "output_type": "display_data"
    }
   ],
   "source": [
    "#fit second order polynomial\n",
    "# run the 2 scatterplots together to get second order fit lines\n",
    "plt.figure()\n",
    "scat1 = sns.regplot(x=\"urbanrate_c\", y=\"femaleemployrate_c\", order=2, data=sub2)\n",
    "plt.xlabel('Urban Rate')\n",
    "plt.ylabel('Female Employment Rate')"
   ]
  },
  {
   "cell_type": "code",
   "execution_count": 12,
   "metadata": {},
   "outputs": [
    {
     "name": "stdout",
     "output_type": "stream",
     "text": [
      "                            OLS Regression Results                            \n",
      "==============================================================================\n",
      "Dep. Variable:     femaleemployrate_c   R-squared:                       0.078\n",
      "Model:                            OLS   Adj. R-squared:                  0.073\n",
      "Method:                 Least Squares   F-statistic:                     14.51\n",
      "Date:                Tue, 27 Apr 2021   Prob (F-statistic):           0.000194\n",
      "Time:                        07:35:07   Log-Likelihood:                -703.81\n",
      "No. Observations:                 173   AIC:                             1412.\n",
      "Df Residuals:                     171   BIC:                             1418.\n",
      "Df Model:                           1                                         \n",
      "Covariance Type:            nonrobust                                         \n",
      "=======================================================================================\n",
      "                          coef    std err          t      P>|t|      [0.025      0.975]\n",
      "---------------------------------------------------------------------------------------\n",
      "Intercept              -4.0206      1.511     -2.660      0.009      -7.004      -1.037\n",
      "I(urbanrate_c ** 2)     0.0075      0.002      3.809      0.000       0.004       0.011\n",
      "==============================================================================\n",
      "Omnibus:                        0.921   Durbin-Watson:                   1.870\n",
      "Prob(Omnibus):                  0.631   Jarque-Bera (JB):                0.988\n",
      "Skew:                          -0.169   Prob(JB):                        0.610\n",
      "Kurtosis:                       2.850   Cond. No.                     1.08e+03\n",
      "==============================================================================\n",
      "\n",
      "Warnings:\n",
      "[1] Standard Errors assume that the covariance matrix of the errors is correctly specified.\n",
      "[2] The condition number is large, 1.08e+03. This might indicate that there are\n",
      "strong multicollinearity or other numerical problems.\n"
     ]
    }
   ],
   "source": [
    "reg2 = smf.ols('femaleemployrate_c ~  I(urbanrate_c**2)', data=sub2).fit()\n",
    "print (reg2.summary())"
   ]
  },
  {
   "cell_type": "markdown",
   "metadata": {},
   "source": [
    "# Example 3 - Multiple & poly"
   ]
  },
  {
   "cell_type": "code",
   "execution_count": 13,
   "metadata": {},
   "outputs": [
    {
     "data": {
      "text/html": [
       "<div>\n",
       "<style scoped>\n",
       "    .dataframe tbody tr th:only-of-type {\n",
       "        vertical-align: middle;\n",
       "    }\n",
       "\n",
       "    .dataframe tbody tr th {\n",
       "        vertical-align: top;\n",
       "    }\n",
       "\n",
       "    .dataframe thead th {\n",
       "        text-align: right;\n",
       "    }\n",
       "</style>\n",
       "<table border=\"1\" class=\"dataframe\">\n",
       "  <thead>\n",
       "    <tr style=\"text-align: right;\">\n",
       "      <th></th>\n",
       "      <th>internetuserate</th>\n",
       "      <th>urbanrate</th>\n",
       "      <th>incomeperperson</th>\n",
       "      <th>femaleemployrate</th>\n",
       "    </tr>\n",
       "  </thead>\n",
       "  <tbody>\n",
       "    <tr>\n",
       "      <th>1</th>\n",
       "      <td>44.99</td>\n",
       "      <td>46.72</td>\n",
       "      <td>1915.00</td>\n",
       "      <td>42.10</td>\n",
       "    </tr>\n",
       "    <tr>\n",
       "      <th>2</th>\n",
       "      <td>12.50</td>\n",
       "      <td>65.22</td>\n",
       "      <td>2231.99</td>\n",
       "      <td>31.70</td>\n",
       "    </tr>\n",
       "    <tr>\n",
       "      <th>4</th>\n",
       "      <td>10.00</td>\n",
       "      <td>56.70</td>\n",
       "      <td>1381.00</td>\n",
       "      <td>69.40</td>\n",
       "    </tr>\n",
       "    <tr>\n",
       "      <th>6</th>\n",
       "      <td>36.00</td>\n",
       "      <td>92.00</td>\n",
       "      <td>10749.42</td>\n",
       "      <td>45.90</td>\n",
       "    </tr>\n",
       "    <tr>\n",
       "      <th>7</th>\n",
       "      <td>44.00</td>\n",
       "      <td>63.86</td>\n",
       "      <td>1326.74</td>\n",
       "      <td>34.20</td>\n",
       "    </tr>\n",
       "  </tbody>\n",
       "</table>\n",
       "</div>"
      ],
      "text/plain": [
       "   internetuserate  urbanrate  incomeperperson  femaleemployrate\n",
       "1            44.99      46.72          1915.00             42.10\n",
       "2            12.50      65.22          2231.99             31.70\n",
       "4            10.00      56.70          1381.00             69.40\n",
       "6            36.00      92.00         10749.42             45.90\n",
       "7            44.00      63.86          1326.74             34.20"
      ]
     },
     "execution_count": 13,
     "metadata": {},
     "output_type": "execute_result"
    }
   ],
   "source": [
    "sub3 = gapminder[['internetuserate', 'urbanrate', 'incomeperperson','femaleemployrate']].dropna()\n",
    "sub3.head()"
   ]
  },
  {
   "cell_type": "code",
   "execution_count": 14,
   "metadata": {},
   "outputs": [
    {
     "data": {
      "text/html": [
       "<div>\n",
       "<style scoped>\n",
       "    .dataframe tbody tr th:only-of-type {\n",
       "        vertical-align: middle;\n",
       "    }\n",
       "\n",
       "    .dataframe tbody tr th {\n",
       "        vertical-align: top;\n",
       "    }\n",
       "\n",
       "    .dataframe thead th {\n",
       "        text-align: right;\n",
       "    }\n",
       "</style>\n",
       "<table border=\"1\" class=\"dataframe\">\n",
       "  <thead>\n",
       "    <tr style=\"text-align: right;\">\n",
       "      <th></th>\n",
       "      <th>internetuserate</th>\n",
       "      <th>urbanrate</th>\n",
       "      <th>incomeperperson</th>\n",
       "      <th>femaleemployrate</th>\n",
       "      <th>femaleemployrate_c</th>\n",
       "      <th>internetuserate_c</th>\n",
       "      <th>urbanrate_c</th>\n",
       "      <th>incomeperperson_c</th>\n",
       "    </tr>\n",
       "  </thead>\n",
       "  <tbody>\n",
       "    <tr>\n",
       "      <th>1</th>\n",
       "      <td>44.99</td>\n",
       "      <td>46.72</td>\n",
       "      <td>1915.00</td>\n",
       "      <td>42.10</td>\n",
       "      <td>-5.89</td>\n",
       "      <td>10.62</td>\n",
       "      <td>-9.98</td>\n",
       "      <td>-5777.45</td>\n",
       "    </tr>\n",
       "    <tr>\n",
       "      <th>2</th>\n",
       "      <td>12.50</td>\n",
       "      <td>65.22</td>\n",
       "      <td>2231.99</td>\n",
       "      <td>31.70</td>\n",
       "      <td>-16.29</td>\n",
       "      <td>-21.87</td>\n",
       "      <td>8.52</td>\n",
       "      <td>-5460.46</td>\n",
       "    </tr>\n",
       "    <tr>\n",
       "      <th>4</th>\n",
       "      <td>10.00</td>\n",
       "      <td>56.70</td>\n",
       "      <td>1381.00</td>\n",
       "      <td>69.40</td>\n",
       "      <td>21.41</td>\n",
       "      <td>-24.37</td>\n",
       "      <td>0.00</td>\n",
       "      <td>-6311.45</td>\n",
       "    </tr>\n",
       "    <tr>\n",
       "      <th>6</th>\n",
       "      <td>36.00</td>\n",
       "      <td>92.00</td>\n",
       "      <td>10749.42</td>\n",
       "      <td>45.90</td>\n",
       "      <td>-2.09</td>\n",
       "      <td>1.63</td>\n",
       "      <td>35.30</td>\n",
       "      <td>3056.97</td>\n",
       "    </tr>\n",
       "    <tr>\n",
       "      <th>7</th>\n",
       "      <td>44.00</td>\n",
       "      <td>63.86</td>\n",
       "      <td>1326.74</td>\n",
       "      <td>34.20</td>\n",
       "      <td>-13.79</td>\n",
       "      <td>9.63</td>\n",
       "      <td>7.16</td>\n",
       "      <td>-6365.71</td>\n",
       "    </tr>\n",
       "  </tbody>\n",
       "</table>\n",
       "</div>"
      ],
      "text/plain": [
       "   internetuserate  urbanrate  incomeperperson  femaleemployrate  \\\n",
       "1            44.99      46.72          1915.00             42.10   \n",
       "2            12.50      65.22          2231.99             31.70   \n",
       "4            10.00      56.70          1381.00             69.40   \n",
       "6            36.00      92.00         10749.42             45.90   \n",
       "7            44.00      63.86          1326.74             34.20   \n",
       "\n",
       "   femaleemployrate_c  internetuserate_c  urbanrate_c  incomeperperson_c  \n",
       "1               -5.89              10.62        -9.98           -5777.45  \n",
       "2              -16.29             -21.87         8.52           -5460.46  \n",
       "4               21.41             -24.37         0.00           -6311.45  \n",
       "6               -2.09               1.63        35.30            3056.97  \n",
       "7              -13.79               9.63         7.16           -6365.71  "
      ]
     },
     "execution_count": 14,
     "metadata": {},
     "output_type": "execute_result"
    }
   ],
   "source": [
    "sub3['femaleemployrate_c'] = (sub3['femaleemployrate'] - sub3['femaleemployrate'].mean())\n",
    "sub3['internetuserate_c'] = (sub3['internetuserate'] - sub3['internetuserate'].mean())\n",
    "sub3['urbanrate_c'] = (sub3['urbanrate'] - sub3['urbanrate'].mean())\n",
    "sub3['incomeperperson_c'] = (sub3['incomeperperson'] - sub3['incomeperperson'].mean())\n",
    "\n",
    "sub3.head()"
   ]
  },
  {
   "cell_type": "code",
   "execution_count": 15,
   "metadata": {},
   "outputs": [
    {
     "name": "stdout",
     "output_type": "stream",
     "text": [
      "                            OLS Regression Results                            \n",
      "==============================================================================\n",
      "Dep. Variable:     femaleemployrate_c   R-squared:                       0.111\n",
      "Model:                            OLS   Adj. R-squared:                  0.094\n",
      "Method:                 Least Squares   F-statistic:                     6.628\n",
      "Date:                Tue, 27 Apr 2021   Prob (F-statistic):           0.000301\n",
      "Time:                        07:35:07   Log-Likelihood:                -661.99\n",
      "No. Observations:                 164   AIC:                             1332.\n",
      "Df Residuals:                     160   BIC:                             1344.\n",
      "Df Model:                           3                                         \n",
      "Covariance Type:            nonrobust                                         \n",
      "=======================================================================================\n",
      "                          coef    std err          t      P>|t|      [0.025      0.975]\n",
      "---------------------------------------------------------------------------------------\n",
      "Intercept              -3.8653      1.553     -2.489      0.014      -6.932      -0.798\n",
      "internetuserate_c      -0.1136      0.068     -1.664      0.098      -0.248       0.021\n",
      "incomeperperson_c       0.0002      0.000      1.106      0.270      -0.000       0.001\n",
      "I(urbanrate_c ** 2)     0.0073      0.002      3.474      0.001       0.003       0.011\n",
      "==============================================================================\n",
      "Omnibus:                        1.525   Durbin-Watson:                   1.983\n",
      "Prob(Omnibus):                  0.467   Jarque-Bera (JB):                1.584\n",
      "Skew:                          -0.224   Prob(JB):                        0.453\n",
      "Kurtosis:                       2.822   Cond. No.                     1.55e+04\n",
      "==============================================================================\n",
      "\n",
      "Warnings:\n",
      "[1] Standard Errors assume that the covariance matrix of the errors is correctly specified.\n",
      "[2] The condition number is large, 1.55e+04. This might indicate that there are\n",
      "strong multicollinearity or other numerical problems.\n"
     ]
    }
   ],
   "source": [
    "reg3 = smf.ols('femaleemployrate_c ~ internetuserate_c + incomeperperson_c + I(urbanrate_c**2)', data=sub3).fit()\n",
    "print (reg3.summary())"
   ]
  },
  {
   "cell_type": "markdown",
   "metadata": {},
   "source": [
    "# Evaluating model"
   ]
  },
  {
   "cell_type": "code",
   "execution_count": 16,
   "metadata": {
    "scrolled": true
   },
   "outputs": [
    {
     "data": {
      "image/png": "[encoded data removed]",
      "text/plain": [
       "<Figure size 432x288 with 1 Axes>"
      ]
     },
     "metadata": {
      "needs_background": "light"
     },
     "output_type": "display_data"
    }
   ],
   "source": [
    "import statsmodels.api as sm\n",
    "fig4=sm.qqplot(reg3.resid, line='r')"
   ]
  },
  {
   "cell_type": "code",
   "execution_count": 17,
   "metadata": {},
   "outputs": [
    {
     "data": {
      "text/plain": [
       "Text(0.5, 0, 'Observation Number')"
      ]
     },
     "execution_count": 17,
     "metadata": {},
     "output_type": "execute_result"
    },
    {
     "data": {
      "image/png": "[encoded data removed]",
      "text/plain": [
       "<Figure size 432x288 with 1 Axes>"
      ]
     },
     "metadata": {
      "needs_background": "light"
     },
     "output_type": "display_data"
    }
   ],
   "source": [
    "# simple plot of residuals\n",
    "stdres=pd.DataFrame(reg3.resid_pearson)\n",
    "plt.figure()\n",
    "plt.plot(stdres, 'o', ls='None')\n",
    "l = plt.axhline(y=0, color='r')\n",
    "plt.ylabel('Standardized Residual')\n",
    "plt.xlabel('Observation Number')"
   ]
  },
  {
   "cell_type": "code",
   "execution_count": 18,
   "metadata": {},
   "outputs": [
    {
     "name": "stdout",
     "output_type": "stream",
     "text": [
      "4.878048780487805\n"
     ]
    }
   ],
   "source": [
    "percentage_over2sd = (np.count_nonzero( stdres[0] > 2) + np.count_nonzero( stdres[0] < -2))/len(stdres)*100\n",
    "print (percentage_over2sd)"
   ]
  },
  {
   "cell_type": "code",
   "execution_count": 19,
   "metadata": {},
   "outputs": [
    {
     "name": "stdout",
     "output_type": "stream",
     "text": [
      "0.6097560975609756\n"
     ]
    }
   ],
   "source": [
    "percentage_over2_5sd = (np.count_nonzero( stdres[0] > 2.5) + np.count_nonzero( stdres[0] < -2.5))/len(stdres)*100\n",
    "print (percentage_over2_5sd)"
   ]
  }
 ],
 "metadata": {
  "kernelspec": {
   "display_name": "Python 3",
   "language": "python",
   "name": "python3"
  },
  "language_info": {
   "codemirror_mode": {
    "name": "ipython",
    "version": 3
   },
   "file_extension": ".py",
   "mimetype": "text/x-python",
   "name": "python",
   "nbconvert_exporter": "python",
   "pygments_lexer": "ipython3",
   "version": "3.8.8"
  }
 },
 "nbformat": 4,
 "nbformat_minor": 4
}
