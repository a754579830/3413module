{
 "cells": [
  {
   "cell_type": "markdown",
   "metadata": {},
   "source": [
    "# First Name: \n",
    "# Last Name: "
   ]
  },
  {
   "cell_type": "code",
   "execution_count": 1,
   "metadata": {},
   "outputs": [],
   "source": [
    "import pandas as pd\n",
    "import numpy as np\n",
    "import seaborn as sns\n",
    "import statsmodels.formula.api as smf\n",
    "import statsmodels.stats.multicomp as multi \n",
    "import matplotlib.pyplot as plt"
   ]
  },
  {
   "cell_type": "code",
   "execution_count": 2,
   "metadata": {},
   "outputs": [],
   "source": [
    "nesarc = pd.read_csv('nesarc.csv', low_memory=False)\n",
    "pd.set_option('display.float_format', lambda x:'%f'%x)"
   ]
  },
  {
   "cell_type": "code",
   "execution_count": 3,
   "metadata": {},
   "outputs": [],
   "source": [
    "nesarc['S3AQ3B1'] = pd.to_numeric(nesarc['S3AQ3B1']) #convert variable to numeric\n",
    "nesarc['S3AQ3C1'] = pd.to_numeric(nesarc['S3AQ3C1']) #convert variable to numeric\n",
    "nesarc['CHECK321'] = pd.to_numeric(nesarc['CHECK321']) #convert variable to numeric"
   ]
  },
  {
   "cell_type": "code",
   "execution_count": 4,
   "metadata": {},
   "outputs": [],
   "source": [
    "sub1=nesarc[(nesarc['AGE']>=18) & (nesarc['AGE']<=25) & (nesarc['CHECK321']==1)]\n",
    "sub2=sub1.copy()"
   ]
  },
  {
   "cell_type": "code",
   "execution_count": 5,
   "metadata": {},
   "outputs": [],
   "source": [
    "#SETTING MISSING DATA\n",
    "sub2['S3AQ3B1']=sub2['S3AQ3B1'].replace(9, np.nan)\n",
    "sub2['S3AQ3C1']=sub2['S3AQ3C1'].replace(99, np.nan)"
   ]
  },
  {
   "cell_type": "code",
   "execution_count": 6,
   "metadata": {},
   "outputs": [],
   "source": [
    "recode2 = {1: 30, 2: 22, 3: 14, 4: 5, 5: 2.5, 6: 1}\n",
    "sub2['USFREQMO']= sub2['S3AQ3B1'].map(recode2)\n",
    "sub2['USFREQMO']= pd.to_numeric(sub2['USFREQMO'])"
   ]
  },
  {
   "cell_type": "code",
   "execution_count": 7,
   "metadata": {},
   "outputs": [],
   "source": [
    "# Creating a secondary variable multiplying the days smoked/month and the number of cig/per day\n",
    "sub2['NUMCIGMO_EST']=sub2['USFREQMO'] * sub2['S3AQ3C1']\n",
    "sub2['NUMCIGMO_EST']= pd.to_numeric(sub2['NUMCIGMO_EST'])"
   ]
  },
  {
   "cell_type": "code",
   "execution_count": 8,
   "metadata": {},
   "outputs": [
    {
     "name": "stdout",
     "output_type": "stream",
     "text": [
      "NUMCIGMO_EST\n",
      "1.000000       29\n",
      "2.000000       14\n",
      "2.500000       11\n",
      "3.000000       12\n",
      "4.000000        2\n",
      "               ..\n",
      "1050.000000     1\n",
      "1200.000000    29\n",
      "1800.000000     2\n",
      "2400.000000     1\n",
      "2940.000000     1\n",
      "Length: 66, dtype: int64\n"
     ]
    }
   ],
   "source": [
    "ct1 = sub2.groupby('NUMCIGMO_EST').size()\n",
    "print (ct1)"
   ]
  },
  {
   "cell_type": "markdown",
   "metadata": {},
   "source": [
    "# Categorical -> Quantitative - ANOVA"
   ]
  },
  {
   "cell_type": "code",
   "execution_count": 9,
   "metadata": {},
   "outputs": [],
   "source": [
    "sub2['MAJORDEPLIFE'] = sub2['MAJORDEPLIFE'].astype('category') "
   ]
  },
  {
   "cell_type": "code",
   "execution_count": 10,
   "metadata": {},
   "outputs": [
    {
     "data": {
      "text/plain": [
       "Text(0, 0.5, 'NUMCIGMO_EST')"
      ]
     },
     "execution_count": 10,
     "metadata": {},
     "output_type": "execute_result"
    },
    {
     "data": {
      "image/png": "[encoded data removed]",
      "text/plain": [
       "<Figure size 432x288 with 1 Axes>"
      ]
     },
     "metadata": {
      "needs_background": "light"
     },
     "output_type": "display_data"
    }
   ],
   "source": [
    "%matplotlib inline\n",
    "sns.boxplot(x='MAJORDEPLIFE', y='NUMCIGMO_EST', data=sub2)\n",
    "plt.xlabel('MAJORDEPLIFE')\n",
    "plt.ylabel('NUMCIGMO_EST')"
   ]
  },
  {
   "cell_type": "code",
   "execution_count": 11,
   "metadata": {},
   "outputs": [
    {
     "name": "stdout",
     "output_type": "stream",
     "text": [
      "                            OLS Regression Results                            \n",
      "==============================================================================\n",
      "Dep. Variable:           NUMCIGMO_EST   R-squared:                       0.002\n",
      "Model:                            OLS   Adj. R-squared:                  0.002\n",
      "Method:                 Least Squares   F-statistic:                     3.550\n",
      "Date:                Tue, 30 Mar 2021   Prob (F-statistic):             0.0597\n",
      "Time:                        09:39:57   Log-Likelihood:                -11934.\n",
      "No. Observations:                1697   AIC:                         2.387e+04\n",
      "Df Residuals:                    1695   BIC:                         2.388e+04\n",
      "Df Model:                           1                                         \n",
      "Covariance Type:            nonrobust                                         \n",
      "========================================================================================\n",
      "                           coef    std err          t      P>|t|      [0.025      0.975]\n",
      "----------------------------------------------------------------------------------------\n",
      "Intercept              312.8380      7.747     40.381      0.000     297.643     328.033\n",
      "C(MAJORDEPLIFE)[T.1]    28.5370     15.146      1.884      0.060      -1.169      58.243\n",
      "==============================================================================\n",
      "Omnibus:                      673.875   Durbin-Watson:                   1.982\n",
      "Prob(Omnibus):                  0.000   Jarque-Bera (JB):             5043.141\n",
      "Skew:                           1.672   Prob(JB):                         0.00\n",
      "Kurtosis:                      10.755   Cond. No.                         2.46\n",
      "==============================================================================\n",
      "\n",
      "Warnings:\n",
      "[1] Standard Errors assume that the covariance matrix of the errors is correctly specified.\n"
     ]
    }
   ],
   "source": [
    "model1 = smf.ols(formula='NUMCIGMO_EST ~ C(MAJORDEPLIFE)', data=sub2).fit()\n",
    "print (model1.summary())"
   ]
  },
  {
   "cell_type": "code",
   "execution_count": 12,
   "metadata": {},
   "outputs": [],
   "source": [
    "sub3 = sub2[['NUMCIGMO_EST', 'MAJORDEPLIFE']].dropna()"
   ]
  },
  {
   "cell_type": "code",
   "execution_count": 13,
   "metadata": {},
   "outputs": [
    {
     "name": "stdout",
     "output_type": "stream",
     "text": [
      "means for numcigmo_est by major depression status\n",
      "              NUMCIGMO_EST\n",
      "MAJORDEPLIFE              \n",
      "0               312.837989\n",
      "1               341.375000\n"
     ]
    }
   ],
   "source": [
    "print ('means for numcigmo_est by major depression status')\n",
    "m1= sub3.groupby('MAJORDEPLIFE').mean()\n",
    "print (m1)"
   ]
  },
  {
   "cell_type": "code",
   "execution_count": 14,
   "metadata": {},
   "outputs": [
    {
     "name": "stdout",
     "output_type": "stream",
     "text": [
      "standard deviations for numcigmo_est by major depression status\n",
      "              NUMCIGMO_EST\n",
      "MAJORDEPLIFE              \n",
      "0               269.002344\n",
      "1               288.495118\n"
     ]
    }
   ],
   "source": [
    "print ('standard deviations for numcigmo_est by major depression status')\n",
    "sd1 = sub3.groupby('MAJORDEPLIFE').std()\n",
    "print (sd1)"
   ]
  },
  {
   "cell_type": "markdown",
   "metadata": {},
   "source": [
    "# Categorical (>2) -> Quantitative - ANOVA"
   ]
  },
  {
   "cell_type": "code",
   "execution_count": 15,
   "metadata": {},
   "outputs": [],
   "source": [
    "sub2['ETHRACE2A'] = sub2['ETHRACE2A'].astype('category') \n",
    "sub2['ETHRACE2A']=sub2['ETHRACE2A'].cat.rename_categories([\"White\", \"Black\", \"NatAm\", \"Asian\", \"Hispanic\"])"
   ]
  },
  {
   "cell_type": "code",
   "execution_count": 16,
   "metadata": {
    "scrolled": true
   },
   "outputs": [
    {
     "data": {
      "text/plain": [
       "Text(0, 0.5, 'NUMCIGMO_EST')"
      ]
     },
     "execution_count": 16,
     "metadata": {},
     "output_type": "execute_result"
    },
    {
     "data": {
      "image/png": "[encoded data removed]",
      "text/plain": [
       "<Figure size 432x288 with 1 Axes>"
      ]
     },
     "metadata": {
      "needs_background": "light"
     },
     "output_type": "display_data"
    }
   ],
   "source": [
    "%matplotlib inline\n",
    "sns.boxplot(x='ETHRACE2A', y='NUMCIGMO_EST', data=sub2)\n",
    "plt.xlabel('ETHRACE2A')\n",
    "plt.ylabel('NUMCIGMO_EST')"
   ]
  },
  {
   "cell_type": "code",
   "execution_count": 17,
   "metadata": {},
   "outputs": [],
   "source": [
    "sub4 = sub2[['NUMCIGMO_EST', 'ETHRACE2A']].dropna()"
   ]
  },
  {
   "cell_type": "code",
   "execution_count": 18,
   "metadata": {},
   "outputs": [
    {
     "name": "stdout",
     "output_type": "stream",
     "text": [
      "                            OLS Regression Results                            \n",
      "==============================================================================\n",
      "Dep. Variable:           NUMCIGMO_EST   R-squared:                       0.055\n",
      "Model:                            OLS   Adj. R-squared:                  0.052\n",
      "Method:                 Least Squares   F-statistic:                     24.40\n",
      "Date:                Tue, 30 Mar 2021   Prob (F-statistic):           1.18e-19\n",
      "Time:                        09:39:58   Log-Likelihood:                -11888.\n",
      "No. Observations:                1697   AIC:                         2.379e+04\n",
      "Df Residuals:                    1692   BIC:                         2.381e+04\n",
      "Df Model:                           4                                         \n",
      "Covariance Type:            nonrobust                                         \n",
      "============================================================================================\n",
      "                               coef    std err          t      P>|t|      [0.025      0.975]\n",
      "--------------------------------------------------------------------------------------------\n",
      "Intercept                  368.7865      8.229     44.814      0.000     352.646     384.927\n",
      "C(ETHRACE2A)[T.Black]     -109.5127     20.189     -5.424      0.000    -149.111     -69.914\n",
      "C(ETHRACE2A)[T.NatAm]      -57.7984     42.038     -1.375      0.169    -140.250      24.653\n",
      "C(ETHRACE2A)[T.Asian]     -124.5279     36.033     -3.456      0.001    -195.201     -53.854\n",
      "C(ETHRACE2A)[T.Hispanic]  -149.0283     16.795     -8.873      0.000    -181.969    -116.087\n",
      "==============================================================================\n",
      "Omnibus:                      712.397   Durbin-Watson:                   1.994\n",
      "Prob(Omnibus):                  0.000   Jarque-Bera (JB):             6548.614\n",
      "Skew:                           1.717   Prob(JB):                         0.00\n",
      "Kurtosis:                      11.990   Cond. No.                         6.72\n",
      "==============================================================================\n",
      "\n",
      "Warnings:\n",
      "[1] Standard Errors assume that the covariance matrix of the errors is correctly specified.\n"
     ]
    }
   ],
   "source": [
    "model2 = smf.ols(formula='NUMCIGMO_EST ~ C(ETHRACE2A)', data=sub4).fit()\n",
    "print (model2.summary())"
   ]
  },
  {
   "cell_type": "code",
   "execution_count": 19,
   "metadata": {},
   "outputs": [
    {
     "name": "stdout",
     "output_type": "stream",
     "text": [
      "means for numcigmo_est by ethnicity\n",
      "           NUMCIGMO_EST\n",
      "ETHRACE2A              \n",
      "White        368.786528\n",
      "Black        259.273810\n",
      "NatAm        310.988095\n",
      "Asian        244.258621\n",
      "Hispanic     219.758258\n"
     ]
    }
   ],
   "source": [
    "print ('means for numcigmo_est by ethnicity')\n",
    "m2= sub4.groupby('ETHRACE2A').mean()\n",
    "print (m2)"
   ]
  },
  {
   "cell_type": "code",
   "execution_count": 20,
   "metadata": {},
   "outputs": [
    {
     "name": "stdout",
     "output_type": "stream",
     "text": [
      "standard deviations for numcigmo_est by ethnicity\n",
      "           NUMCIGMO_EST\n",
      "ETHRACE2A              \n",
      "White        281.430730\n",
      "Black        278.677392\n",
      "NatAm        260.116964\n",
      "Asian        195.076441\n",
      "Hispanic     220.859365\n"
     ]
    }
   ],
   "source": [
    "print ('standard deviations for numcigmo_est by ethnicity')\n",
    "sd2 = sub4.groupby('ETHRACE2A').std()\n",
    "print (sd2)"
   ]
  },
  {
   "cell_type": "code",
   "execution_count": 21,
   "metadata": {},
   "outputs": [
    {
     "name": "stdout",
     "output_type": "stream",
     "text": [
      "    Multiple Comparison of Means - Tukey HSD, FWER=0.05    \n",
      "===========================================================\n",
      " group1   group2  meandiff p-adj    lower    upper   reject\n",
      "-----------------------------------------------------------\n",
      "   Asian    Black  15.0152    0.9  -93.2026  123.233  False\n",
      "   Asian Hispanic -24.5004    0.9 -128.3027   79.302  False\n",
      "   Asian    NatAm  66.7295 0.7058  -81.0848 214.5437  False\n",
      "   Asian    White 124.5279 0.0051   26.1329 222.9229   True\n",
      "   Black Hispanic -39.5156 0.4492 -103.8025  24.7714  False\n",
      "   Black    NatAm  51.7143 0.7555  -71.6021 175.0307  False\n",
      "   Black    White 109.5127  0.001   54.3814 164.6441   True\n",
      "Hispanic    NatAm  91.2298 0.2269  -28.2305 210.6902  False\n",
      "Hispanic    White 149.0283  0.001  103.1665   194.89   True\n",
      "   NatAm    White  57.7984 0.6251  -56.9945 172.5914  False\n",
      "-----------------------------------------------------------\n"
     ]
    }
   ],
   "source": [
    "mc1 = multi.MultiComparison(sub4['NUMCIGMO_EST'], sub4['ETHRACE2A'])\n",
    "res1 = mc1.tukeyhsd()\n",
    "print(res1.summary())"
   ]
  }
 ],
 "metadata": {
  "kernelspec": {
   "display_name": "Python 3",
   "language": "python",
   "name": "python3"
  },
  "language_info": {
   "codemirror_mode": {
    "name": "ipython",
    "version": 3
   },
   "file_extension": ".py",
   "mimetype": "text/x-python",
   "name": "python",
   "nbconvert_exporter": "python",
   "pygments_lexer": "ipython3",
   "version": "3.8.8"
  }
 },
 "nbformat": 4,
 "nbformat_minor": 4
}
